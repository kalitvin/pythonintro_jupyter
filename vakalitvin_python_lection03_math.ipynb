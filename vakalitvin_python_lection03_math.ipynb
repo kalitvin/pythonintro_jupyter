{
  "nbformat": 4,
  "nbformat_minor": 0,
  "metadata": {
    "colab": {
      "provenance": []
    },
    "kernelspec": {
      "name": "python3",
      "display_name": "Python 3"
    },
    "language_info": {
      "name": "python"
    }
  },
  "cells": [
    {
      "cell_type": "markdown",
      "source": [
        "## **Введение в программирование на python. Простейшие математические вычисления**\n",
        "#### **Автор: Калитвин В.А.**\n",
        "#### kalitvin@gmail.com"
      ],
      "metadata": {
        "id": "h6rkY4wGYXu_"
      }
    },
    {
      "cell_type": "markdown",
      "source": [
        "## **Арифметические операторы**"
      ],
      "metadata": {
        "id": "aFfeAYbfkHSF"
      }
    },
    {
      "cell_type": "markdown",
      "source": [
        "`+`  сложение (конкатенация)"
      ],
      "metadata": {
        "id": "VUoTX05aqXYm"
      }
    },
    {
      "cell_type": "code",
      "source": [
        "print(2 + 3)"
      ],
      "metadata": {
        "colab": {
          "base_uri": "https://localhost:8080/"
        },
        "id": "5JveBq6otQLV",
        "outputId": "a1db615e-9d0d-4cce-b8f3-82c0202efe39"
      },
      "execution_count": null,
      "outputs": [
        {
          "output_type": "stream",
          "name": "stdout",
          "text": [
            "5\n"
          ]
        }
      ]
    },
    {
      "cell_type": "markdown",
      "source": [
        "`-`  вычитание"
      ],
      "metadata": {
        "id": "MiVZJqe7tPWS"
      }
    },
    {
      "cell_type": "code",
      "execution_count": null,
      "metadata": {
        "colab": {
          "base_uri": "https://localhost:8080/"
        },
        "id": "IiNFMAJbi9A0",
        "outputId": "d6b7c27b-d19a-452f-d433-224a328a385f"
      },
      "outputs": [
        {
          "output_type": "stream",
          "name": "stdout",
          "text": [
            "5\n"
          ]
        }
      ],
      "source": [
        "print(8 - 3)"
      ]
    },
    {
      "cell_type": "markdown",
      "source": [
        "`*`  умножение (повторение)"
      ],
      "metadata": {
        "id": "OgHNJnuqtdJB"
      }
    },
    {
      "cell_type": "code",
      "source": [
        "print(2 * 2)"
      ],
      "metadata": {
        "colab": {
          "base_uri": "https://localhost:8080/"
        },
        "id": "ceiQI7nitde4",
        "outputId": "d6345d8f-7fbc-4151-ddfe-9ada555f60ac"
      },
      "execution_count": null,
      "outputs": [
        {
          "output_type": "stream",
          "name": "stdout",
          "text": [
            "4\n"
          ]
        }
      ]
    },
    {
      "cell_type": "markdown",
      "source": [
        "`/`  деление"
      ],
      "metadata": {
        "id": "nkipOVojty9T"
      }
    },
    {
      "cell_type": "code",
      "source": [
        "print(8 / 4)"
      ],
      "metadata": {
        "colab": {
          "base_uri": "https://localhost:8080/"
        },
        "id": "ReWd2ksyuOrk",
        "outputId": "64bbb239-b9a3-4891-a95b-71936871d145"
      },
      "execution_count": null,
      "outputs": [
        {
          "output_type": "stream",
          "name": "stdout",
          "text": [
            "2.0\n"
          ]
        }
      ]
    },
    {
      "cell_type": "markdown",
      "source": [
        "`//` деление с усечением дробной части"
      ],
      "metadata": {
        "id": "rOhKM13TuUY4"
      }
    },
    {
      "cell_type": "code",
      "source": [
        "print(8 // 3)"
      ],
      "metadata": {
        "colab": {
          "base_uri": "https://localhost:8080/"
        },
        "id": "mKwMhWwduXqD",
        "outputId": "078c6d2b-d6cd-40eb-d2c5-d4aebf3fda87"
      },
      "execution_count": null,
      "outputs": [
        {
          "output_type": "stream",
          "name": "stdout",
          "text": [
            "2\n"
          ]
        }
      ]
    },
    {
      "cell_type": "markdown",
      "source": [
        "`**` возведение в степень"
      ],
      "metadata": {
        "id": "38ha3i6Yubiv"
      }
    },
    {
      "cell_type": "code",
      "source": [
        "print(2**3)"
      ],
      "metadata": {
        "colab": {
          "base_uri": "https://localhost:8080/"
        },
        "id": "0JRWeiDoufcm",
        "outputId": "75782653-dd28-40de-d21b-50841825d8c8"
      },
      "execution_count": null,
      "outputs": [
        {
          "output_type": "stream",
          "name": "stdout",
          "text": [
            "8\n"
          ]
        }
      ]
    },
    {
      "cell_type": "markdown",
      "source": [
        "`%`  остаток от деления"
      ],
      "metadata": {
        "id": "iOUIFRfruYiI"
      }
    },
    {
      "cell_type": "code",
      "source": [
        "print(7 % 2)"
      ],
      "metadata": {
        "colab": {
          "base_uri": "https://localhost:8080/"
        },
        "id": "cf6Occi8umjr",
        "outputId": "7282cdcb-d1e9-419c-ac57-c03c4cd03c63"
      },
      "execution_count": null,
      "outputs": [
        {
          "output_type": "stream",
          "name": "stdout",
          "text": [
            "1\n"
          ]
        }
      ]
    },
    {
      "cell_type": "markdown",
      "source": [
        "Группировка в выражениях осуществляется с помощью круглых скобок."
      ],
      "metadata": {
        "id": "iynLo5GXsuUy"
      }
    },
    {
      "cell_type": "code",
      "source": [
        "print(5 + 3 * 4) # сначала выполняется умножение, потом сложение"
      ],
      "metadata": {
        "colab": {
          "base_uri": "https://localhost:8080/"
        },
        "id": "gzM3_FQh34qo",
        "outputId": "3267056d-feb5-42b8-c921-da933bc58dc4"
      },
      "execution_count": null,
      "outputs": [
        {
          "output_type": "stream",
          "name": "stdout",
          "text": [
            "17\n"
          ]
        }
      ]
    },
    {
      "cell_type": "code",
      "source": [
        "print( (5 + 3) * 4) # сначала выполняется сложение, затем умножение"
      ],
      "metadata": {
        "colab": {
          "base_uri": "https://localhost:8080/"
        },
        "id": "uLn9X9g94ByL",
        "outputId": "dd7b05a5-ddd8-474b-a1b4-188509502828"
      },
      "execution_count": null,
      "outputs": [
        {
          "output_type": "stream",
          "name": "stdout",
          "text": [
            "32\n"
          ]
        }
      ]
    },
    {
      "cell_type": "markdown",
      "source": [
        "## Пример.\n",
        "Вычислить $\\frac{3+\\frac{5}{3}}{\\frac{3}{14}+(\\frac{5}{14}+2)\\cdot 3}$"
      ],
      "metadata": {
        "id": "JKL5OELv4ibr"
      }
    },
    {
      "cell_type": "code",
      "source": [
        "print((3 + 5 / 3) / (3 / 14 + (5 / 14 + 2) * 3 ))"
      ],
      "metadata": {
        "colab": {
          "base_uri": "https://localhost:8080/"
        },
        "id": "VaMHqAHm4dyv",
        "outputId": "da2c560b-3676-4073-d2a3-795ead84825f"
      },
      "execution_count": null,
      "outputs": [
        {
          "output_type": "stream",
          "name": "stdout",
          "text": [
            "0.6405228758169935\n"
          ]
        }
      ]
    },
    {
      "cell_type": "markdown",
      "source": [
        "##***Модуль math***##"
      ],
      "metadata": {
        "id": "VOl-XmMw73Tb"
      }
    },
    {
      "cell_type": "markdown",
      "source": [
        "Модуль math предоставляет доступ для работы с математическими функциями.\n",
        "\n",
        "Для подключения модуля необходимо в начало программы добавить строку"
      ],
      "metadata": {
        "id": "cIClPtbY-IkF"
      }
    },
    {
      "cell_type": "code",
      "source": [
        "import math"
      ],
      "metadata": {
        "id": "wi8TbyGD9-SY"
      },
      "execution_count": null,
      "outputs": []
    },
    {
      "cell_type": "markdown",
      "source": [
        "После этого можно вызывать функции из модуля math"
      ],
      "metadata": {
        "id": "0mMuohgM-MHE"
      }
    },
    {
      "cell_type": "code",
      "source": [
        "print(math.sin(0))\n",
        "print(math.sin(math.pi/2))\n",
        "print(math.factorial(3))"
      ],
      "metadata": {
        "colab": {
          "base_uri": "https://localhost:8080/"
        },
        "id": "JhtffHEB-h10",
        "outputId": "af669801-2c3e-44e6-cedf-b1e410ae4f82"
      },
      "execution_count": null,
      "outputs": [
        {
          "output_type": "stream",
          "name": "stdout",
          "text": [
            "0.0\n",
            "1.0\n",
            "6\n"
          ]
        }
      ]
    },
    {
      "cell_type": "markdown",
      "source": [
        "В вычислениях часто встречаются функции"
      ],
      "metadata": {
        "id": "W1WnQTv0xueA"
      }
    },
    {
      "cell_type": "markdown",
      "source": [
        "pow(x,n) $x^n$\n",
        "\n",
        "sqrt(x) $\\sqrt{x}$\n",
        "\n",
        "cbrt(x) $\\root 3\\of x$\n",
        "\n",
        "fabs(x) $|x|$\n",
        "\n",
        "exp(x) $e^x$\n",
        "\n",
        "log(x) $ln x$\n",
        "\n",
        "log10(x) $log_{10}(x)$\n",
        "\n",
        "log2(x) $log_2(x)$\n",
        "\n",
        "sin(x) $sin x$ (x в радианах)\n",
        "\n",
        "cos(x) $cos x$ (x в радианах)\n",
        "\n",
        "tan(x) $tan 𝑥$ (x в радианах)\n",
        "\n",
        "asin(x) $arcsin x$ (в радианах)\n",
        "\n",
        "acos(x) $arccos x$ (в радианах)\n",
        "\n",
        "atan(x) $arctan x$ (в радианах)\n",
        "\n",
        "ceil(x) Округление x сверху. Возвращает наименьшее целое значение, которое не меньше x\n",
        "\n",
        "floor(x) Округление x снизу. Возвращает наибольшее целое значение, которое не больше x\n",
        "\n",
        "round(x) Округление x до ближайшего целого (метод симметричного округления)\n",
        "\n",
        "trunc(x) Округление x до ближайшего целого (метод отбрасывания дробной части)\n",
        "\n",
        "fmod(a,b) Остаток от деления a на b\n",
        "\n"
      ],
      "metadata": {
        "id": "vnzBzRSN-oT1"
      }
    },
    {
      "cell_type": "code",
      "source": [],
      "metadata": {
        "id": "CBJTH8rNA-3T"
      },
      "execution_count": null,
      "outputs": []
    },
    {
      "cell_type": "markdown",
      "source": [
        "\n",
        "### **Преобразование углов** ###\n",
        "\n",
        "math.degrees(x)\n",
        "\n",
        "    Преобразует угол x из радиан в градусы.\n",
        "\n",
        "math.radians(x)\n",
        "\n",
        "    Преобразует угол x из градусов в радианы.\n",
        "\n"
      ],
      "metadata": {
        "id": "IX19fV2x2zp2"
      }
    },
    {
      "cell_type": "code",
      "source": [
        "print(math.degrees(math.pi))\n",
        "print(math.radians(360))"
      ],
      "metadata": {
        "colab": {
          "base_uri": "https://localhost:8080/"
        },
        "id": "_Iu8PJNI8Kks",
        "outputId": "73d9f2d7-15fb-4c38-86ca-225d96919444"
      },
      "execution_count": null,
      "outputs": [
        {
          "output_type": "stream",
          "name": "stdout",
          "text": [
            "180.0\n",
            "6.283185307179586\n"
          ]
        }
      ]
    },
    {
      "cell_type": "markdown",
      "source": [
        "### **Константы** ###\n",
        "\n",
        "math.pi Число 𝜋 = 3.141592…\n",
        "\n",
        "math.e  Число 𝑒 = 2.718281…\n",
        "\n",
        "math.tau Константа τ = 6.283185….     \n",
        "Константа $\\tau$ равна отношению длины C окружности к её радиусу r: $\\tau = \\frac{C}{r}$. $\\tau = 2\\pi.$\n",
        "\n",
        "math.inf Машинная бесконечность"
      ],
      "metadata": {
        "id": "Q58XYjFfm8We"
      }
    },
    {
      "cell_type": "code",
      "source": [
        "import math\n",
        "print(math.pi)\n",
        "print(math.e)\n",
        "print(math.tau)\n",
        "print(math.inf)"
      ],
      "metadata": {
        "colab": {
          "base_uri": "https://localhost:8080/"
        },
        "id": "Wma30NwgwEFN",
        "outputId": "704b1d68-a2fc-49c8-8546-3493fb34e435"
      },
      "execution_count": null,
      "outputs": [
        {
          "output_type": "stream",
          "name": "stdout",
          "text": [
            "3.141592653589793\n",
            "2.718281828459045\n",
            "6.283185307179586\n",
            "inf\n"
          ]
        }
      ]
    },
    {
      "cell_type": "code",
      "source": [
        "print(2.0**(-1075))"
      ],
      "metadata": {
        "colab": {
          "base_uri": "https://localhost:8080/"
        },
        "id": "-Q8pdcOK5eid",
        "outputId": "8f5dca23-cfa4-4cd2-822f-1155248795f6"
      },
      "execution_count": null,
      "outputs": [
        {
          "output_type": "stream",
          "name": "stdout",
          "text": [
            "0.0\n"
          ]
        }
      ]
    },
    {
      "cell_type": "code",
      "source": [
        "print(2.0**1024)"
      ],
      "metadata": {
        "colab": {
          "base_uri": "https://localhost:8080/",
          "height": 141
        },
        "id": "WRERWtsR5erM",
        "outputId": "9e4b5a1e-b8ab-402a-8335-172af621954c"
      },
      "execution_count": null,
      "outputs": [
        {
          "output_type": "error",
          "ename": "OverflowError",
          "evalue": "(34, 'Numerical result out of range')",
          "traceback": [
            "\u001b[0;31m---------------------------------------------------------------------------\u001b[0m",
            "\u001b[0;31mOverflowError\u001b[0m                             Traceback (most recent call last)",
            "\u001b[0;32m/tmp/ipython-input-2696391214.py\u001b[0m in \u001b[0;36m<cell line: 0>\u001b[0;34m()\u001b[0m\n\u001b[0;32m----> 1\u001b[0;31m \u001b[0mprint\u001b[0m\u001b[0;34m(\u001b[0m\u001b[0;36m2.0\u001b[0m\u001b[0;34m**\u001b[0m\u001b[0;36m1024\u001b[0m\u001b[0;34m)\u001b[0m\u001b[0;34m\u001b[0m\u001b[0;34m\u001b[0m\u001b[0m\n\u001b[0m",
            "\u001b[0;31mOverflowError\u001b[0m: (34, 'Numerical result out of range')"
          ]
        }
      ]
    },
    {
      "cell_type": "code",
      "source": [
        "print(1.0 + 2.0**(-53))"
      ],
      "metadata": {
        "colab": {
          "base_uri": "https://localhost:8080/"
        },
        "id": "aOkFwXb36opG",
        "outputId": "e08e3d96-f9bc-4253-8c82-f15c4189a6ff"
      },
      "execution_count": null,
      "outputs": [
        {
          "output_type": "stream",
          "name": "stdout",
          "text": [
            "1.0\n"
          ]
        }
      ]
    },
    {
      "cell_type": "code",
      "source": [
        "a = 123456789123456789.0\n",
        "b = 123456789123456788.0\n",
        "f = a - b\n",
        "print(f)"
      ],
      "metadata": {
        "colab": {
          "base_uri": "https://localhost:8080/"
        },
        "id": "Lzm0e9Bs7DhS",
        "outputId": "92a9f1ee-2e50-4efd-8091-02137f08f1a5"
      },
      "execution_count": null,
      "outputs": [
        {
          "output_type": "stream",
          "name": "stdout",
          "text": [
            "0.0\n"
          ]
        }
      ]
    },
    {
      "cell_type": "code",
      "source": [
        "if abs(0.1 + 0.2 - 0.3) < 0.0000000000000001:\n",
        "  print('yes')\n",
        "else:\n",
        "  print('no')"
      ],
      "metadata": {
        "colab": {
          "base_uri": "https://localhost:8080/"
        },
        "id": "OI226nT87tSA",
        "outputId": "9e39229d-38a9-4f0a-e89a-6a4029baf336"
      },
      "execution_count": null,
      "outputs": [
        {
          "output_type": "stream",
          "name": "stdout",
          "text": [
            "yes\n"
          ]
        }
      ]
    },
    {
      "cell_type": "code",
      "source": [],
      "metadata": {
        "id": "s3W4-m-c5fQQ"
      },
      "execution_count": null,
      "outputs": []
    },
    {
      "cell_type": "code",
      "source": [
        "if abs((0.1 + 0.2) - 0.3) < 0.0000000000001:\n",
        "  print('yes')\n",
        "else:\n",
        "  print('no')"
      ],
      "metadata": {
        "colab": {
          "base_uri": "https://localhost:8080/"
        },
        "id": "JGtgMbzhtKKM",
        "outputId": "0f482087-f8ed-4409-b478-2c1e99f4c533"
      },
      "execution_count": null,
      "outputs": [
        {
          "output_type": "stream",
          "name": "stdout",
          "text": [
            "yes\n"
          ]
        }
      ]
    },
    {
      "cell_type": "code",
      "source": [
        "a = float(123456789123456789)\n",
        "b = float(123456789123456788)\n",
        "f = a - b\n",
        "print(f)\n"
      ],
      "metadata": {
        "colab": {
          "base_uri": "https://localhost:8080/"
        },
        "id": "6r_5A-E0tehm",
        "outputId": "cc841409-5926-49ab-b803-a1b42fb23cff"
      },
      "execution_count": null,
      "outputs": [
        {
          "output_type": "stream",
          "name": "stdout",
          "text": [
            "0.0\n"
          ]
        }
      ]
    },
    {
      "cell_type": "code",
      "source": [
        "print(1 + 2**(-52))"
      ],
      "metadata": {
        "colab": {
          "base_uri": "https://localhost:8080/"
        },
        "id": "zSYswTkiv4Ao",
        "outputId": "47d6ee64-55ec-489a-ee1b-acc31e74e3aa"
      },
      "execution_count": null,
      "outputs": [
        {
          "output_type": "stream",
          "name": "stdout",
          "text": [
            "1.0000000000000002\n"
          ]
        }
      ]
    },
    {
      "cell_type": "code",
      "source": [
        "print(2.0**1100)"
      ],
      "metadata": {
        "colab": {
          "base_uri": "https://localhost:8080/",
          "height": 143
        },
        "id": "3SCaREPOwaeb",
        "outputId": "285841e6-f993-4bb6-92a7-3c62eb6f5df4"
      },
      "execution_count": null,
      "outputs": [
        {
          "output_type": "error",
          "ename": "OverflowError",
          "evalue": "(34, 'Numerical result out of range')",
          "traceback": [
            "\u001b[0;31m---------------------------------------------------------------------------\u001b[0m",
            "\u001b[0;31mOverflowError\u001b[0m                             Traceback (most recent call last)",
            "\u001b[0;32m<ipython-input-33-d808fe6cff82>\u001b[0m in \u001b[0;36m<cell line: 0>\u001b[0;34m()\u001b[0m\n\u001b[0;32m----> 1\u001b[0;31m \u001b[0mprint\u001b[0m\u001b[0;34m(\u001b[0m\u001b[0;36m2.0\u001b[0m\u001b[0;34m**\u001b[0m\u001b[0;36m1100\u001b[0m\u001b[0;34m)\u001b[0m\u001b[0;34m\u001b[0m\u001b[0;34m\u001b[0m\u001b[0m\n\u001b[0m",
            "\u001b[0;31mOverflowError\u001b[0m: (34, 'Numerical result out of range')"
          ]
        }
      ]
    },
    {
      "cell_type": "markdown",
      "source": [
        "math.nan Not a number. Не число. В соответствии со стандартом IEEE-754, math.nan и float('nan') не равны любым числовым значениям, включая их самих. Для проверки, является ли объект объектом NaN, нужно использовать функцию isnan() вместо ==."
      ],
      "metadata": {
        "id": "1UnQm1eCxmFy"
      }
    },
    {
      "cell_type": "code",
      "source": [
        "import math\n",
        "print(math.nan == math.nan) # False\n",
        "print(float('nan') == float('nan')) #False\n",
        "print(math.isnan(math.nan)) # True\n",
        "print(math.isnan(float('nan'))) # True"
      ],
      "metadata": {
        "colab": {
          "base_uri": "https://localhost:8080/"
        },
        "id": "mPa1aDI9vu43",
        "outputId": "18432f96-4bd2-436d-e960-94518652c54f"
      },
      "execution_count": null,
      "outputs": [
        {
          "output_type": "stream",
          "name": "stdout",
          "text": [
            "False\n",
            "False\n",
            "True\n",
            "True\n"
          ]
        }
      ]
    },
    {
      "cell_type": "code",
      "source": [],
      "metadata": {
        "id": "pnhW-opAwGNE"
      },
      "execution_count": null,
      "outputs": []
    },
    {
      "cell_type": "code",
      "source": [
        "print(math.factorial(5))"
      ],
      "metadata": {
        "id": "gtxduu0bwG5z",
        "colab": {
          "base_uri": "https://localhost:8080/"
        },
        "outputId": "1d0f1ab3-d489-4aad-986c-bdbe6de18835"
      },
      "execution_count": null,
      "outputs": [
        {
          "output_type": "stream",
          "name": "stdout",
          "text": [
            "120\n"
          ]
        }
      ]
    }
  ]
}