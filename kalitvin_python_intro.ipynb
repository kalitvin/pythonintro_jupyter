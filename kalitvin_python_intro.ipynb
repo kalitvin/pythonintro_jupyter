{
  "cells": [
    {
      "cell_type": "markdown",
      "metadata": {
        "id": "8thilDt2L0rk"
      },
      "source": [
        "**В. А. Калитвин**\n",
        "\n",
        "kalitvinv@yandex.ru\n",
        "\n",
        "# **Введение в программирование на python**"
      ]
    },
    {
      "cell_type": "markdown",
      "metadata": {
        "id": "jErssetWMBuP"
      },
      "source": [
        "1. [Введение]()\n",
        "\n",
        "2. [Ввод и вывод данных](./vakalitvin_python_lection01.ipynb)\n",
        "\n",
        "3. [Простейшие математические вычисления](https://colab.research.google.com/drive/1SgGIkXmzJXg5gsmECLs-6rpgeAhG7Qsm?usp=sharing)\n",
        "\n",
        "4. [Условный оператор](https://colab.research.google.com/drive/1Qz_a83kFr7DdfDeh44cMtysAA5xDUQ0t?usp=sharing)\n",
        "\n",
        "5. [Цикл while](https://colab.research.google.com/drive/17KWd-LUp1kPeTxDkP1ro-J0-plgvQBsg?usp=sharing)\n",
        "\n",
        "6. [Вещественные числа](https://colab.research.google.com/drive/1A8tgaFFssWRpuPNF7qZsqm6CtZ_ofIg0?usp=sharing)\n",
        "\n",
        "7. [Функции](https://colab.research.google.com/drive/13-_uXHNf4Ek0ox1Gc_bs08qrLjEdPHcz?usp=sharing)\n",
        "\n",
        "8. [Последовательности](https://colab.research.google.com/drive/1JCRz8RrKsj-RYEc9WE27USG1Uy0FjCy5?usp=sharing)\n",
        "\n",
        "9. [Множества](https://colab.research.google.com/drive/1XlQz2nYSu6F2NxBZhVjoM3DrE7kvjSbJ?usp=sharing)"
      ]
    }
  ],
  "metadata": {
    "colab": {
      "provenance": []
    },
    "kernelspec": {
      "display_name": "Python 3",
      "name": "python3"
    },
    "language_info": {
      "name": "python"
    }
  },
  "nbformat": 4,
  "nbformat_minor": 0
}
