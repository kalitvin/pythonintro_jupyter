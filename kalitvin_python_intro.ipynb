{
  "nbformat": 4,
  "nbformat_minor": 0,
  "metadata": {
    "colab": {
      "provenance": []
    },
    "kernelspec": {
      "name": "python3",
      "display_name": "Python 3"
    },
    "language_info": {
      "name": "python"
    }
  },
  "cells": [
    {
      "cell_type": "markdown",
      "source": [
        "**В. А. Калитвин**\n",
        "\n",
        "kalitvinv@yandex.ru\n",
        "\n",
        "# **Введение в программирование на python**"
      ],
      "metadata": {
        "id": "8thilDt2L0rk"
      }
    },
    {
      "cell_type": "markdown",
      "source": [
        "1. [Введение](https://colab.research.google.com/drive/1WLNRjk8nW98Q6O45LOaD5gCrf7ficRkt?usp=sharing)\n",
        "\n",
        "2. [Ввод и вывод данных](https://colab.research.google.com/drive/1HDcluHih0hA56W1eprVWcS09b8sRVuQu?usp=sharing)\n",
        "\n",
        "3. [Простейшие математические вычисления](https://colab.research.google.com/drive/1SgGIkXmzJXg5gsmECLs-6rpgeAhG7Qsm?usp=sharing)\n",
        "\n",
        "4. [Условный оператор](https://colab.research.google.com/drive/1Qz_a83kFr7DdfDeh44cMtysAA5xDUQ0t?usp=sharing)\n",
        "\n",
        "5. [Цикл while](https://colab.research.google.com/drive/17KWd-LUp1kPeTxDkP1ro-J0-plgvQBsg?usp=sharing)\n",
        "\n",
        "6. [Вещественные числа](https://colab.research.google.com/drive/1A8tgaFFssWRpuPNF7qZsqm6CtZ_ofIg0?usp=sharing)\n",
        "\n",
        "7. [Функции](https://colab.research.google.com/drive/13-_uXHNf4Ek0ox1Gc_bs08qrLjEdPHcz?usp=sharing)\n",
        "\n",
        "8. [Последовательности](https://colab.research.google.com/drive/1JCRz8RrKsj-RYEc9WE27USG1Uy0FjCy5?usp=sharing)\n",
        "\n",
        "9. [Множества](https://colab.research.google.com/drive/1XlQz2nYSu6F2NxBZhVjoM3DrE7kvjSbJ?usp=sharing)"
      ],
      "metadata": {
        "id": "jErssetWMBuP"
      }
    }
  ]
}