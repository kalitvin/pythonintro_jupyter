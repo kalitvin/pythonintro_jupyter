{
  "cells": [
    {
      "cell_type": "markdown",
      "metadata": {
        "id": "8thilDt2L0rk"
      },
      "source": [
        "**В. А. Калитвин**\n",
        "\n",
        "kalitvinv@yandex.ru\n",
        "\n",
        "# **Введение в программирование на python**"
      ]
    },
    {
      "cell_type": "markdown",
      "metadata": {
        "id": "jErssetWMBuP"
      },
      "source": [
        "1. [Введение](./vakalitvin_python_lection01.ipynb)\n",
        "\n",
        "2. [Ввод и вывод данных](./vakalitvin_python_lection02.ipynb)\n",
        "\n",
        "3. [Простейшие математические вычисления](./vakalitvin_python_lection03_math.ipynb)\n",
        "\n",
        "4. [Условный оператор](./vakalitvin_python_lection04_if.ipynb)\n",
        "\n",
        "5. [Цикл while](./vakalitvin_python_lection05_while.ipynb)\n",
        "\n",
        "6. [Вещественные числа](./vakalitvin_python_lection06_float.ipynb)\n",
        "\n",
        "7. [Функции](./vakalitvin_python_lection07_function.ipynb)\n",
        "\n",
        "8. [Последовательности](./vakalitvin_python_lection08_sequences.ipynb)\n",
        "\n",
        "9. [Множества](./vakalitvin_python_lection09_set.ipynb)"
      ]
    }
  ],
  "metadata": {
    "colab": {
      "provenance": []
    },
    "kernelspec": {
      "display_name": "Python 3",
      "name": "python3"
    },
    "language_info": {
      "name": "python"
    }
  },
  "nbformat": 4,
  "nbformat_minor": 0
}
