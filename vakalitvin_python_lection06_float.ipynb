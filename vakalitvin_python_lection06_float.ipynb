{
  "nbformat": 4,
  "nbformat_minor": 0,
  "metadata": {
    "colab": {
      "provenance": []
    },
    "kernelspec": {
      "name": "python3",
      "display_name": "Python 3"
    },
    "language_info": {
      "name": "python"
    }
  },
  "cells": [
    {
      "cell_type": "markdown",
      "source": [
        "### Введение в программирование на python\n",
        "#### Автор: Калитвин В.А.\n",
        "#### kalitvin@gmail.com"
      ],
      "metadata": {
        "id": "pxH6IxQCF9Ck"
      }
    },
    {
      "cell_type": "markdown",
      "source": [
        "### Float ###"
      ],
      "metadata": {
        "id": "QCpAguy0tK1E"
      }
    },
    {
      "cell_type": "code",
      "execution_count": null,
      "metadata": {
        "colab": {
          "base_uri": "https://localhost:8080/"
        },
        "id": "uIeDDMh8tABp",
        "outputId": "c121a794-c15b-486a-d38a-5de140d9cdd5"
      },
      "outputs": [
        {
          "output_type": "stream",
          "name": "stdout",
          "text": [
            "<class 'float'>\n"
          ]
        }
      ],
      "source": [
        "a = 1.0\n",
        "print(type(a))\n",
        "b = float(1)"
      ]
    },
    {
      "cell_type": "code",
      "source": [
        "print(2.0**(-1075)) # машинный ноль"
      ],
      "metadata": {
        "colab": {
          "base_uri": "https://localhost:8080/"
        },
        "id": "QWshFtStt4Lc",
        "outputId": "bb1dff1f-cf04-4efa-adcd-1fb3095788aa"
      },
      "execution_count": null,
      "outputs": [
        {
          "output_type": "stream",
          "name": "stdout",
          "text": [
            "0.0\n"
          ]
        }
      ]
    },
    {
      "cell_type": "code",
      "source": [
        "print(2.0**1070) # машинная бесконечность"
      ],
      "metadata": {
        "colab": {
          "base_uri": "https://localhost:8080/",
          "height": 176
        },
        "id": "kq20aDtivkeJ",
        "outputId": "f7d63ab9-e639-4567-8429-1b89215116d4"
      },
      "execution_count": null,
      "outputs": [
        {
          "output_type": "error",
          "ename": "OverflowError",
          "evalue": "(34, 'Numerical result out of range')",
          "traceback": [
            "\u001b[0;31m---------------------------------------------------------------------------\u001b[0m",
            "\u001b[0;31mOverflowError\u001b[0m                             Traceback (most recent call last)",
            "\u001b[0;32m<ipython-input-8-8ee1d67cf13f>\u001b[0m in \u001b[0;36m<cell line: 0>\u001b[0;34m()\u001b[0m\n\u001b[0;32m----> 1\u001b[0;31m \u001b[0mprint\u001b[0m\u001b[0;34m(\u001b[0m\u001b[0;36m2.0\u001b[0m\u001b[0;34m**\u001b[0m\u001b[0;36m1070\u001b[0m\u001b[0;34m)\u001b[0m \u001b[0;31m# машинная бесконечность\u001b[0m\u001b[0;34m\u001b[0m\u001b[0;34m\u001b[0m\u001b[0m\n\u001b[0m",
            "\u001b[0;31mOverflowError\u001b[0m: (34, 'Numerical result out of range')"
          ]
        }
      ]
    },
    {
      "cell_type": "code",
      "source": [
        "print(1+2**(-53)) # машинный epsilon"
      ],
      "metadata": {
        "colab": {
          "base_uri": "https://localhost:8080/"
        },
        "id": "WTkxTCVvwnY7",
        "outputId": "e99747b8-4cd8-4b5e-add2-a9d551135a88"
      },
      "execution_count": null,
      "outputs": [
        {
          "output_type": "stream",
          "name": "stdout",
          "text": [
            "1.0\n"
          ]
        }
      ]
    },
    {
      "cell_type": "code",
      "source": [
        "a = float(1)\n",
        "print(type(a))"
      ],
      "metadata": {
        "colab": {
          "base_uri": "https://localhost:8080/"
        },
        "id": "CJB_bppoxENp",
        "outputId": "bbc3e333-b07d-4a8d-e1ed-26592811af57"
      },
      "execution_count": null,
      "outputs": [
        {
          "output_type": "stream",
          "name": "stdout",
          "text": [
            "<class 'float'>\n"
          ]
        }
      ]
    },
    {
      "cell_type": "code",
      "source": [
        "a = float(123456789123456789)\n",
        "b = float(123456789123456788)\n",
        "f = a - b\n",
        "print(f)"
      ],
      "metadata": {
        "colab": {
          "base_uri": "https://localhost:8080/"
        },
        "id": "cM68ZfwMxPGp",
        "outputId": "75746301-ef64-484c-b4bd-75944e469447"
      },
      "execution_count": null,
      "outputs": [
        {
          "output_type": "stream",
          "name": "stdout",
          "text": [
            "0.0\n"
          ]
        }
      ]
    },
    {
      "cell_type": "code",
      "source": [
        "if 0.1 + 0.2 == 0.3:\n",
        "  print('TRUE')\n",
        "else:\n",
        "  print('FALSE')"
      ],
      "metadata": {
        "colab": {
          "base_uri": "https://localhost:8080/"
        },
        "id": "u-zyE1oqx2Vi",
        "outputId": "349cce81-221b-4a51-d69c-8e96e80a9288"
      },
      "execution_count": null,
      "outputs": [
        {
          "output_type": "stream",
          "name": "stdout",
          "text": [
            "FALSE\n"
          ]
        }
      ]
    },
    {
      "cell_type": "code",
      "source": [
        "if (0.1 + 0.2 - 0.3) <= 0.0000000000000001:\n",
        "  print('TRUE')\n",
        "else:\n",
        "  print('FALSE')"
      ],
      "metadata": {
        "colab": {
          "base_uri": "https://localhost:8080/"
        },
        "id": "Gb8djAKXyYvi",
        "outputId": "0a847edb-d136-425a-9976-abdde3bea391"
      },
      "execution_count": null,
      "outputs": [
        {
          "output_type": "stream",
          "name": "stdout",
          "text": [
            "TRUE\n"
          ]
        }
      ]
    },
    {
      "cell_type": "code",
      "source": [
        "a = 1.0\n",
        "b = float(1)\n",
        "print(type(a))\n",
        "print(type(b))"
      ],
      "metadata": {
        "colab": {
          "base_uri": "https://localhost:8080/"
        },
        "id": "QXL5qdyLRkVX",
        "outputId": "d5b43ec5-7365-4a87-8ef0-de82ce63f47e"
      },
      "execution_count": null,
      "outputs": [
        {
          "output_type": "stream",
          "name": "stdout",
          "text": [
            "<class 'float'>\n",
            "<class 'float'>\n"
          ]
        }
      ]
    },
    {
      "cell_type": "code",
      "source": [
        "# a * x = b\n",
        "\n",
        "# example 1\n",
        "a = 2\n",
        "b = 4\n",
        "\n",
        "x = b / a\n",
        "print(x)\n",
        "\n",
        "# example 2\n",
        "a = 0\n",
        "b = 4\n",
        "\n",
        "x = b / a\n",
        "print(x)\n",
        "\n",
        "# example 3 0 * x = 0\n",
        "a = 0\n",
        "b = 0\n",
        "\n",
        "x = b / a\n",
        "print(x)\n",
        "\n",
        "\n"
      ],
      "metadata": {
        "colab": {
          "base_uri": "https://localhost:8080/",
          "height": 228
        },
        "id": "ey30NdGLR-9D",
        "outputId": "37858716-2b06-4b9d-b25a-619c242efce7"
      },
      "execution_count": null,
      "outputs": [
        {
          "output_type": "stream",
          "name": "stdout",
          "text": [
            "2.0\n"
          ]
        },
        {
          "output_type": "error",
          "ename": "ZeroDivisionError",
          "evalue": "division by zero",
          "traceback": [
            "\u001b[0;31m---------------------------------------------------------------------------\u001b[0m",
            "\u001b[0;31mZeroDivisionError\u001b[0m                         Traceback (most recent call last)",
            "\u001b[0;32m/tmp/ipython-input-3916711396.py\u001b[0m in \u001b[0;36m<cell line: 0>\u001b[0;34m()\u001b[0m\n\u001b[1;32m     12\u001b[0m \u001b[0mb\u001b[0m \u001b[0;34m=\u001b[0m \u001b[0;36m4\u001b[0m\u001b[0;34m\u001b[0m\u001b[0;34m\u001b[0m\u001b[0m\n\u001b[1;32m     13\u001b[0m \u001b[0;34m\u001b[0m\u001b[0m\n\u001b[0;32m---> 14\u001b[0;31m \u001b[0mx\u001b[0m \u001b[0;34m=\u001b[0m \u001b[0mb\u001b[0m \u001b[0;34m/\u001b[0m \u001b[0ma\u001b[0m\u001b[0;34m\u001b[0m\u001b[0;34m\u001b[0m\u001b[0m\n\u001b[0m\u001b[1;32m     15\u001b[0m \u001b[0mprint\u001b[0m\u001b[0;34m(\u001b[0m\u001b[0mx\u001b[0m\u001b[0;34m)\u001b[0m\u001b[0;34m\u001b[0m\u001b[0;34m\u001b[0m\u001b[0m\n\u001b[1;32m     16\u001b[0m \u001b[0;34m\u001b[0m\u001b[0m\n",
            "\u001b[0;31mZeroDivisionError\u001b[0m: division by zero"
          ]
        }
      ]
    },
    {
      "cell_type": "code",
      "source": [
        "# общий случай\n",
        "a = 2\n",
        "b = 4\n",
        "\n",
        "if a == 0:\n",
        "  if b == 0:\n",
        "    print('x - любое число')\n",
        "  else:\n",
        "    print('нет решений')\n",
        "else:\n",
        "  print(f'x=', b / a)\n",
        "\n",
        "a = 0\n",
        "b = 0\n",
        "\n",
        "if a == 0:\n",
        "  if b == 0:\n",
        "    print('x - любое число')\n",
        "  else:\n",
        "    print('нет решений')\n",
        "else:\n",
        "  print(f'x=', b / a)\n",
        "\n",
        "a = 0\n",
        "b = 4\n",
        "\n",
        "if a == 0:\n",
        "  if b == 0:\n",
        "    print('x - любое число')\n",
        "  else:\n",
        "    print('нет решений')\n",
        "else:\n",
        "  print(f'x=', b / a)"
      ],
      "metadata": {
        "colab": {
          "base_uri": "https://localhost:8080/"
        },
        "id": "0ZfRqPkbUCWo",
        "outputId": "0c9e1d64-01bb-4a76-ce9f-bfad6e76ea32"
      },
      "execution_count": null,
      "outputs": [
        {
          "output_type": "stream",
          "name": "stdout",
          "text": [
            "x= 2.0\n",
            "x - любое число\n",
            "нет решений\n"
          ]
        }
      ]
    },
    {
      "cell_type": "code",
      "source": [
        "# общий случай\n",
        "a = 2\n",
        "b = 4\n",
        "\n",
        "if a == 0:\n",
        "  if b == 0:\n",
        "    print('x - любое число')\n",
        "  else:\n",
        "    print('нет решений')\n",
        "else:\n",
        "  print(f'x=', b / a)\n",
        "\n",
        "a = 0\n",
        "b = 0\n",
        "\n",
        "if a == 0:\n",
        "  if b == 0:\n",
        "    print('x - любое число')\n",
        "  else:\n",
        "    print('нет решений')\n",
        "else:\n",
        "  print(f'x=', b / a)\n",
        "\n",
        "a = 0\n",
        "b = 4\n",
        "\n",
        "if a == 0:\n",
        "  if b == 0:\n",
        "    print('x - любое число')\n",
        "  else:\n",
        "    print('нет решений')\n",
        "else:\n",
        "  print(f'x=', b / a)"
      ],
      "metadata": {
        "colab": {
          "base_uri": "https://localhost:8080/"
        },
        "outputId": "0c9e1d64-01bb-4a76-ce9f-bfad6e76ea32",
        "id": "3UHnnxerU4ML"
      },
      "execution_count": null,
      "outputs": [
        {
          "output_type": "stream",
          "name": "stdout",
          "text": [
            "x= 2.0\n",
            "x - любое число\n",
            "нет решений\n"
          ]
        }
      ]
    },
    {
      "cell_type": "code",
      "source": [
        "# общий случай\n",
        "a = 2\n",
        "b = 4\n",
        "\n",
        "if a == 0:\n",
        "  if b == 0:\n",
        "    print('x - любое число')\n",
        "  else:\n",
        "    print('нет решений')\n",
        "else:\n",
        "  print(f'x=', b / a)\n",
        "\n",
        "a = 0\n",
        "b = 0\n",
        "\n",
        "if a == 0:\n",
        "  if b == 0:\n",
        "    print('x - любое число')\n",
        "  else:\n",
        "    print('нет решений')\n",
        "else:\n",
        "  print(f'x=', b / a)\n",
        "\n",
        "a = 0\n",
        "b = 4\n",
        "\n",
        "if a == 0:\n",
        "  if b == 0:\n",
        "    print('x - любое число')\n",
        "  else:\n",
        "    print('нет решений')\n",
        "else:\n",
        "  print(f'x=', b / a)"
      ],
      "metadata": {
        "colab": {
          "base_uri": "https://localhost:8080/"
        },
        "outputId": "0c9e1d64-01bb-4a76-ce9f-bfad6e76ea32",
        "id": "f5O6sdplVAjU"
      },
      "execution_count": null,
      "outputs": [
        {
          "output_type": "stream",
          "name": "stdout",
          "text": [
            "x= 2.0\n",
            "x - любое число\n",
            "нет решений\n"
          ]
        }
      ]
    },
    {
      "cell_type": "code",
      "source": [
        "def solve(a, b):\n",
        "  if a == 0:\n",
        "    if b == 0:\n",
        "      print('x - любое число')\n",
        "    else:\n",
        "      print('нет решений')\n",
        "  else:\n",
        "    print(f'x=', b / a)"
      ],
      "metadata": {
        "id": "Y7JWdzY3VI2M"
      },
      "execution_count": null,
      "outputs": []
    },
    {
      "cell_type": "code",
      "source": [
        "def solve(a, b):\n",
        "  if a == 0:\n",
        "    if b == 0:\n",
        "      return 'x - любое число'\n",
        "    else:\n",
        "      return 'нет решений'\n",
        "  else:\n",
        "    return b / a"
      ],
      "metadata": {
        "id": "Ec-iDjqbWgYZ"
      },
      "execution_count": null,
      "outputs": []
    },
    {
      "cell_type": "code",
      "source": [
        "print(solve(2, 4))\n",
        "print(solve(0, 0))\n",
        "print(solve(0, 4))"
      ],
      "metadata": {
        "colab": {
          "base_uri": "https://localhost:8080/"
        },
        "id": "n9lQDzSlVhE1",
        "outputId": "c961e785-4ff0-4ce0-9771-64f34c608ef7"
      },
      "execution_count": null,
      "outputs": [
        {
          "output_type": "stream",
          "name": "stdout",
          "text": [
            "2.0\n",
            "x - любое число\n",
            "нет решений\n"
          ]
        }
      ]
    },
    {
      "cell_type": "code",
      "source": [
        "def f(x):\n",
        "  return x**2\n",
        "\n",
        "print(f(2), f(4))"
      ],
      "metadata": {
        "colab": {
          "base_uri": "https://localhost:8080/"
        },
        "id": "CfI_1nXXV38O",
        "outputId": "bb30c9d5-879d-4164-f450-01e6e8e4729d"
      },
      "execution_count": null,
      "outputs": [
        {
          "output_type": "stream",
          "name": "stdout",
          "text": [
            "4 16\n"
          ]
        }
      ]
    },
    {
      "cell_type": "code",
      "source": [
        "# ax^2 + bx + c = 0\n",
        "import math\n",
        "\n",
        "def equation(a, b, c):\n",
        "  d = b**2 - 4 * a * c\n",
        "  if d < 0:\n",
        "    return 'нет решений в R'\n",
        "  elif d > 0:\n",
        "    x1 = (-b - math.sqrt(d) ) / (2 * a)\n",
        "    x2 = (-b + math.sqrt(d) ) / (2 * a)\n",
        "    return f'x1={x1}, x2={x2}'\n",
        "  else:\n",
        "    return f'x={-b / (2 * a)}'"
      ],
      "metadata": {
        "id": "HUu_c77kZDCy"
      },
      "execution_count": null,
      "outputs": []
    },
    {
      "cell_type": "code",
      "source": [
        "print(equation(2,3,-5))\n",
        "print(equation(1,-5,6))\n",
        "print(equation(1,-2,1))\n",
        "print(equation(1,1,1))"
      ],
      "metadata": {
        "colab": {
          "base_uri": "https://localhost:8080/"
        },
        "id": "TLqlQt89a9GB",
        "outputId": "181ee444-693c-42c1-b878-2b3894d1fa8b"
      },
      "execution_count": null,
      "outputs": [
        {
          "output_type": "stream",
          "name": "stdout",
          "text": [
            "x1=-2.5, x2=1.0\n",
            "x1=2.0, x2=3.0\n",
            "x=1.0\n",
            "нет решений в R\n"
          ]
        }
      ]
    },
    {
      "cell_type": "code",
      "source": [
        "def summa(n):\n",
        "  s = 0\n",
        "  i = 1\n",
        "  while i <= n:\n",
        "    s = s + i\n",
        "    i = i + 1\n",
        "  return s"
      ],
      "metadata": {
        "id": "KSAryTM2spDf"
      },
      "execution_count": null,
      "outputs": []
    },
    {
      "cell_type": "code",
      "source": [
        "print(summa(3))\n",
        "print(summa(5))"
      ],
      "metadata": {
        "colab": {
          "base_uri": "https://localhost:8080/"
        },
        "id": "LI54PEhCtDmZ",
        "outputId": "341b178e-bbe4-44ff-b87b-f04bb22cdaa7"
      },
      "execution_count": null,
      "outputs": [
        {
          "output_type": "stream",
          "name": "stdout",
          "text": [
            "6\n",
            "15\n"
          ]
        }
      ]
    }
  ]
}