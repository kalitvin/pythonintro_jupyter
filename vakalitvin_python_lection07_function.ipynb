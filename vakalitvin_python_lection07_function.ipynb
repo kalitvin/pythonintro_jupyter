{
  "nbformat": 4,
  "nbformat_minor": 0,
  "metadata": {
    "colab": {
      "provenance": []
    },
    "kernelspec": {
      "name": "python3",
      "display_name": "Python 3"
    },
    "language_info": {
      "name": "python"
    }
  },
  "cells": [
    {
      "cell_type": "markdown",
      "source": [
        "### Введение в программирование на python\n",
        "#### Автор: Калитвин В.А.\n",
        "#### kalitvin@gmail.com"
      ],
      "metadata": {
        "id": "ko7uZrv9FE54"
      }
    },
    {
      "cell_type": "markdown",
      "source": [
        "#### Функции ##"
      ],
      "metadata": {
        "id": "3sDCWB5F4Rz3"
      }
    },
    {
      "cell_type": "markdown",
      "source": [
        "Функции позволяют создать изолированный фрагмент программного кода, который может быть вызван из другой части программы"
      ],
      "metadata": {
        "id": "tKuPCVvJ0MHS"
      }
    },
    {
      "cell_type": "markdown",
      "source": [
        "Объявление функции"
      ],
      "metadata": {
        "id": "-rrvQ6DC1WyX"
      }
    },
    {
      "cell_type": "markdown",
      "source": [
        "```\n",
        "def <имя_функции>(<аргументы>):\n",
        "    <тело_функции>\n",
        "```\n",
        "\n"
      ],
      "metadata": {
        "id": "WiMM4Bd6cCzR"
      }
    },
    {
      "cell_type": "markdown",
      "source": [
        "Пример."
      ],
      "metadata": {
        "id": "9vbaZiUocaj6"
      }
    },
    {
      "cell_type": "code",
      "execution_count": null,
      "metadata": {
        "id": "2V7CyUh34NGv",
        "colab": {
          "base_uri": "https://localhost:8080/"
        },
        "outputId": "5f5bf9d2-959f-4834-e4a3-789dc545c755"
      },
      "outputs": [
        {
          "output_type": "stream",
          "name": "stdout",
          "text": [
            "-23.973106866578462\n",
            "32.19234333722066\n",
            "-54.40211108893698\n"
          ]
        }
      ],
      "source": [
        "import math\n",
        "\n",
        "def f(x):\n",
        "  return x*x*math.sin(x)\n",
        "\n",
        "print(f(5))\n",
        "print(f(7))\n",
        "print(f(10))"
      ]
    },
    {
      "cell_type": "markdown",
      "source": [
        "Пример. Объявим функцию для решения квадратного уравнения"
      ],
      "metadata": {
        "id": "wtLeHODSchI1"
      }
    },
    {
      "cell_type": "code",
      "source": [
        "import math\n",
        "\n",
        "def eq_solve(a, b, c):\n",
        "  if a==0:\n",
        "    return 'a должно быть не равным нулю'\n",
        "  else:\n",
        "    d = b * b - 4 * a* c\n",
        "    if d < 0:\n",
        "      return 'нет решений на множестве R'\n",
        "    elif d==0:\n",
        "      x = -b / (2 * a)\n",
        "      return f'x={x}'\n",
        "    else:\n",
        "      x1 = (-b - math.sqrt(d))/ (2 * a)\n",
        "      x2 = (-b + math.sqrt(d))/ (2 * a)\n",
        "      return f'x1={x1}, x2={x2}'\n",
        "\n",
        "\n"
      ],
      "metadata": {
        "id": "Jk5WWkFHoJoT"
      },
      "execution_count": null,
      "outputs": []
    },
    {
      "cell_type": "code",
      "source": [
        "eq_solve(0, -2, 1)"
      ],
      "metadata": {
        "colab": {
          "base_uri": "https://localhost:8080/",
          "height": 35
        },
        "id": "mhSYXMoZqN3t",
        "outputId": "8355487f-38c0-4f6d-b7fb-e0ba0fabe0e1"
      },
      "execution_count": null,
      "outputs": [
        {
          "output_type": "execute_result",
          "data": {
            "text/plain": [
              "'a должно быть не равным нулю'"
            ],
            "application/vnd.google.colaboratory.intrinsic+json": {
              "type": "string"
            }
          },
          "metadata": {},
          "execution_count": 2
        }
      ]
    },
    {
      "cell_type": "code",
      "source": [
        "eq_solve(1, -2, 1)"
      ],
      "metadata": {
        "colab": {
          "base_uri": "https://localhost:8080/",
          "height": 35
        },
        "id": "3KMg95saqMn9",
        "outputId": "a378cd84-a53c-432f-909c-b151156f4618"
      },
      "execution_count": null,
      "outputs": [
        {
          "output_type": "execute_result",
          "data": {
            "text/plain": [
              "'x=1.0'"
            ],
            "application/vnd.google.colaboratory.intrinsic+json": {
              "type": "string"
            }
          },
          "metadata": {},
          "execution_count": 3
        }
      ]
    },
    {
      "cell_type": "code",
      "source": [
        "eq_solve(1, -5, 6)"
      ],
      "metadata": {
        "colab": {
          "base_uri": "https://localhost:8080/",
          "height": 35
        },
        "id": "FZJsW65CqQH1",
        "outputId": "d025c32a-df10-4a7e-9300-e6e4ab260e45"
      },
      "execution_count": null,
      "outputs": [
        {
          "output_type": "execute_result",
          "data": {
            "text/plain": [
              "'x1=2.0, x2=3.0'"
            ],
            "application/vnd.google.colaboratory.intrinsic+json": {
              "type": "string"
            }
          },
          "metadata": {},
          "execution_count": 4
        }
      ]
    },
    {
      "cell_type": "code",
      "source": [
        "def eq_solve1(a, b, c):\n",
        "  if a==0:\n",
        "    return None\n",
        "  else:\n",
        "    d = b * b - 4 * a* c\n",
        "    if d < 0:\n",
        "      return None\n",
        "    elif d==0:\n",
        "      x = -b / (2 * a)\n",
        "      return x\n",
        "    else:\n",
        "      x1 = (-b - math.sqrt(d))/ (2 * a)\n",
        "      x2 = (-b + math.sqrt(d))/ (2 * a)\n",
        "      return [x1, x2]"
      ],
      "metadata": {
        "id": "zUeUcvSuqYs1"
      },
      "execution_count": null,
      "outputs": []
    },
    {
      "cell_type": "code",
      "source": [
        "eq_solve1(1, -5, 6)"
      ],
      "metadata": {
        "colab": {
          "base_uri": "https://localhost:8080/"
        },
        "id": "40NRi-Qiqrfe",
        "outputId": "744ac12e-c0f9-4260-bbd6-edbb764603fd"
      },
      "execution_count": null,
      "outputs": [
        {
          "output_type": "execute_result",
          "data": {
            "text/plain": [
              "[2.0, 3.0]"
            ]
          },
          "metadata": {},
          "execution_count": 22
        }
      ]
    },
    {
      "cell_type": "code",
      "source": [
        "eq_solve1(1, -2, 1)"
      ],
      "metadata": {
        "colab": {
          "base_uri": "https://localhost:8080/"
        },
        "id": "tcbavRkVquul",
        "outputId": "c7248e11-fe7b-4e9c-bb81-1ef24d8b5b87"
      },
      "execution_count": null,
      "outputs": [
        {
          "output_type": "execute_result",
          "data": {
            "text/plain": [
              "1.0"
            ]
          },
          "metadata": {},
          "execution_count": 23
        }
      ]
    },
    {
      "cell_type": "code",
      "source": [
        "eq_solve1(0, -2, 1)"
      ],
      "metadata": {
        "id": "-xb7nWWiq0nu"
      },
      "execution_count": null,
      "outputs": []
    },
    {
      "cell_type": "markdown",
      "source": [
        "Пример. Объявим функцию для нахождения наибольшего из двух чисел"
      ],
      "metadata": {
        "id": "-PCMUl3CcyBu"
      }
    },
    {
      "cell_type": "code",
      "source": [
        "def max2(a, b):\n",
        "  if a > b:\n",
        "    return a\n",
        "  else:\n",
        "    return b"
      ],
      "metadata": {
        "id": "-zv5XtfjrDuA"
      },
      "execution_count": null,
      "outputs": []
    },
    {
      "cell_type": "code",
      "source": [
        "max2(3,5)"
      ],
      "metadata": {
        "colab": {
          "base_uri": "https://localhost:8080/"
        },
        "id": "ci7hoWdErRlP",
        "outputId": "b97711f7-708f-42a5-be9d-165d179db5fc"
      },
      "execution_count": null,
      "outputs": [
        {
          "output_type": "execute_result",
          "data": {
            "text/plain": [
              "5"
            ]
          },
          "metadata": {},
          "execution_count": 7
        }
      ]
    },
    {
      "cell_type": "code",
      "source": [
        "max2(50, 7)"
      ],
      "metadata": {
        "colab": {
          "base_uri": "https://localhost:8080/"
        },
        "id": "zxiXBCl1rVWN",
        "outputId": "d13a3890-45d1-4301-a1a9-474c5009f95d"
      },
      "execution_count": null,
      "outputs": [
        {
          "output_type": "execute_result",
          "data": {
            "text/plain": [
              "50"
            ]
          },
          "metadata": {},
          "execution_count": 8
        }
      ]
    },
    {
      "cell_type": "code",
      "source": [
        "def max3(a, b, c):\n",
        "  return max2(max2(a,b), c)"
      ],
      "metadata": {
        "id": "M9-B3TFyrjCV"
      },
      "execution_count": null,
      "outputs": []
    },
    {
      "cell_type": "code",
      "source": [
        "max3(30,40,5)"
      ],
      "metadata": {
        "colab": {
          "base_uri": "https://localhost:8080/"
        },
        "id": "2whHGKkdry4P",
        "outputId": "bcf456b9-46d6-4553-a66a-10f61d76cc6d"
      },
      "execution_count": null,
      "outputs": [
        {
          "output_type": "execute_result",
          "data": {
            "text/plain": [
              "40"
            ]
          },
          "metadata": {},
          "execution_count": 30
        }
      ]
    },
    {
      "cell_type": "code",
      "source": [
        "def factorial(n):\n",
        "  i = 1\n",
        "  p = 1\n",
        "  while i <= n:\n",
        "    p = p * i\n",
        "    i += 1\n",
        "  return p\n"
      ],
      "metadata": {
        "id": "v1__WgeOr6dt"
      },
      "execution_count": null,
      "outputs": []
    },
    {
      "cell_type": "code",
      "source": [
        "print(factorial(5))\n",
        "print(factorial(3))"
      ],
      "metadata": {
        "colab": {
          "base_uri": "https://localhost:8080/"
        },
        "id": "9yQe3YkPsLGv",
        "outputId": "9e2faf51-b9c8-4d5d-9147-60725184965a"
      },
      "execution_count": null,
      "outputs": [
        {
          "output_type": "stream",
          "name": "stdout",
          "text": [
            "120\n",
            "6\n"
          ]
        }
      ]
    },
    {
      "cell_type": "code",
      "source": [
        "def factorial_recurs(n):\n",
        "  \"\"\"\n",
        "  Функция для вычисления факториала!\n",
        "  \"\"\"\n",
        "  if n == 1:\n",
        "    return 1\n",
        "  else:\n",
        "    return n * factorial_recurs(n - 1)"
      ],
      "metadata": {
        "id": "4oqXImrDs3_b"
      },
      "execution_count": null,
      "outputs": []
    },
    {
      "cell_type": "code",
      "source": [
        "factorial_recurs(5)"
      ],
      "metadata": {
        "colab": {
          "base_uri": "https://localhost:8080/"
        },
        "id": "lYq9Pk8-tQRd",
        "outputId": "5e57094b-7b1e-4710-e996-a639fd7c6597"
      },
      "execution_count": null,
      "outputs": [
        {
          "output_type": "execute_result",
          "data": {
            "text/plain": [
              "120"
            ]
          },
          "metadata": {},
          "execution_count": 14
        }
      ]
    },
    {
      "cell_type": "code",
      "source": [
        "print(factorial_recurs.__doc__)"
      ],
      "metadata": {
        "colab": {
          "base_uri": "https://localhost:8080/"
        },
        "id": "JXwdYUtUuqWu",
        "outputId": "bb02e1a4-2c30-4b99-fbdd-4a954434d970"
      },
      "execution_count": null,
      "outputs": [
        {
          "output_type": "stream",
          "name": "stdout",
          "text": [
            "\n",
            "  Функция для вычисления факториала!\n",
            "  \n"
          ]
        }
      ]
    },
    {
      "cell_type": "markdown",
      "source": [
        "Функция с аргументами, для которых заданы значения по умолчанию"
      ],
      "metadata": {
        "id": "wk92ETfdyzIC"
      }
    },
    {
      "cell_type": "code",
      "source": [
        "def func1(x, y, z = 1):\n",
        "  \"\"\"\n",
        "  В этой функции для входного аргумента z задано значение по умолчанию 1.\n",
        "  Переменная z принимает значение 1, даже если входной аргумент z не передан\n",
        "  в функцию\n",
        "  \"\"\"\n",
        "  return f'x={x}, y={y}, z={z}'\n",
        "\n",
        "print(func1(1,2,3))\n",
        "print(func1(1,2))"
      ],
      "metadata": {
        "colab": {
          "base_uri": "https://localhost:8080/"
        },
        "id": "nW4K3xZQy73d",
        "outputId": "a4b4f029-c8f3-472e-9eb9-f7591e82a797"
      },
      "execution_count": null,
      "outputs": [
        {
          "output_type": "stream",
          "name": "stdout",
          "text": [
            "x=1, y=2, z=3\n",
            "x=1, y=2, z=1\n"
          ]
        }
      ]
    },
    {
      "cell_type": "markdown",
      "source": [
        "Функция с переменным количеством произвольных аргументов"
      ],
      "metadata": {
        "id": "UUPDHEJdz8YR"
      }
    },
    {
      "cell_type": "code",
      "source": [
        "def summa(*args):\n",
        "  \"\"\"\n",
        "  args - это кортеж из всех аргументов функции summa\n",
        "  \"\"\"\n",
        "  s = 0\n",
        "  for el in args:\n",
        "    s+=el\n",
        "  return s\n",
        "\n",
        "print(summa(1))\n",
        "print(summa(1,2))\n",
        "print(summa(1,2,3))"
      ],
      "metadata": {
        "colab": {
          "base_uri": "https://localhost:8080/"
        },
        "id": "Ljig_teY0KAT",
        "outputId": "37fba118-e138-4d8d-e164-8149a3ccbe10"
      },
      "execution_count": null,
      "outputs": [
        {
          "output_type": "stream",
          "name": "stdout",
          "text": [
            "1\n",
            "3\n",
            "6\n"
          ]
        }
      ]
    },
    {
      "cell_type": "markdown",
      "source": [
        "Функция с переменным количеством именованных аргументов"
      ],
      "metadata": {
        "id": "O6rphalD04Br"
      }
    },
    {
      "cell_type": "code",
      "source": [
        "def func2(**kwargs):\n",
        "  \"\"\"\n",
        "  kwargs - это словарь из всех аргументов функции summa\n",
        "  \"\"\"\n",
        "  return kwargs\n",
        "\n",
        "print(func2(a = 1))\n",
        "print(func2(a = 1, b = 2))\n",
        "print(func2(a = 1, b = 2, c = 3))"
      ],
      "metadata": {
        "colab": {
          "base_uri": "https://localhost:8080/"
        },
        "id": "pBNXNapC1FWy",
        "outputId": "7717275d-4ff7-4843-851f-7222e81a269b"
      },
      "execution_count": null,
      "outputs": [
        {
          "output_type": "stream",
          "name": "stdout",
          "text": [
            "{'a': 1}\n",
            "{'a': 1, 'b': 2}\n",
            "{'a': 1, 'b': 2, 'c': 3}\n"
          ]
        }
      ]
    },
    {
      "cell_type": "markdown",
      "source": [
        "Анонимные функции"
      ],
      "metadata": {
        "id": "nhVK-LEV1j-L"
      }
    },
    {
      "cell_type": "code",
      "source": [
        "f = lambda x, y: x + y\n",
        "print(f(1,2))"
      ],
      "metadata": {
        "colab": {
          "base_uri": "https://localhost:8080/"
        },
        "id": "aGIqsL1YMpc7",
        "outputId": "be9762a3-ebf3-4657-dbc9-af199003c3ac"
      },
      "execution_count": null,
      "outputs": [
        {
          "output_type": "stream",
          "name": "stdout",
          "text": [
            "3\n"
          ]
        }
      ]
    },
    {
      "cell_type": "code",
      "source": [
        "(lambda x, y: x + y)(1,2)"
      ],
      "metadata": {
        "colab": {
          "base_uri": "https://localhost:8080/"
        },
        "id": "mD6C93BpNNQj",
        "outputId": "8827c180-0b20-40bb-f9f5-ed6a04d9a438"
      },
      "execution_count": null,
      "outputs": [
        {
          "output_type": "execute_result",
          "data": {
            "text/plain": [
              "3"
            ]
          },
          "metadata": {},
          "execution_count": 4
        }
      ]
    },
    {
      "cell_type": "markdown",
      "source": [
        "Аннотации типов в функциях"
      ],
      "metadata": {
        "id": "dqA0XxnlN1XP"
      }
    },
    {
      "cell_type": "code",
      "source": [
        "def f(x: int) -> int:\n",
        "  return 2 * x\n",
        "\n",
        "print(f(2))\n",
        "print(f(3.0))"
      ],
      "metadata": {
        "colab": {
          "base_uri": "https://localhost:8080/"
        },
        "id": "Iv1MtQA7N8Ex",
        "outputId": "3441dd74-4973-4818-ec71-389a5144c06d"
      },
      "execution_count": null,
      "outputs": [
        {
          "output_type": "stream",
          "name": "stdout",
          "text": [
            "4\n",
            "6.0\n"
          ]
        }
      ]
    },
    {
      "cell_type": "markdown",
      "source": [
        " Nb Mypy\n",
        " Mypy Type Checking in Jupyter Notebooks"
      ],
      "metadata": {
        "id": "N-SsqQA4TKUw"
      }
    },
    {
      "cell_type": "code",
      "source": [
        "pip install nb_mypy"
      ],
      "metadata": {
        "id": "NGLSXSWtRQAn",
        "colab": {
          "base_uri": "https://localhost:8080/",
          "height": 1000
        },
        "outputId": "4647e2bf-3d35-4fd5-8829-756afbd60d75"
      },
      "execution_count": null,
      "outputs": [
        {
          "output_type": "stream",
          "name": "stdout",
          "text": [
            "Collecting nb_mypy\n",
            "  Downloading nb_mypy-1.0.5.tar.gz (7.3 kB)\n",
            "  Installing build dependencies ... \u001b[?25l\u001b[?25hdone\n",
            "  Getting requirements to build wheel ... \u001b[?25l\u001b[?25hdone\n",
            "  Preparing metadata (pyproject.toml) ... \u001b[?25l\u001b[?25hdone\n",
            "Collecting astor<1,>=0.8 (from nb_mypy)\n",
            "  Downloading astor-0.8.1-py2.py3-none-any.whl.metadata (4.2 kB)\n",
            "Collecting mypy<2,>=1 (from nb_mypy)\n",
            "  Downloading mypy-1.15.0-cp311-cp311-manylinux_2_17_x86_64.manylinux2014_x86_64.manylinux_2_28_x86_64.whl.metadata (2.1 kB)\n",
            "Collecting ipython<9,>=8.0 (from nb_mypy)\n",
            "  Downloading ipython-8.34.0-py3-none-any.whl.metadata (5.0 kB)\n",
            "Requirement already satisfied: decorator in /usr/local/lib/python3.11/dist-packages (from ipython<9,>=8.0->nb_mypy) (4.4.2)\n",
            "Collecting jedi>=0.16 (from ipython<9,>=8.0->nb_mypy)\n",
            "  Downloading jedi-0.19.2-py2.py3-none-any.whl.metadata (22 kB)\n",
            "Requirement already satisfied: matplotlib-inline in /usr/local/lib/python3.11/dist-packages (from ipython<9,>=8.0->nb_mypy) (0.1.7)\n",
            "Requirement already satisfied: pexpect>4.3 in /usr/local/lib/python3.11/dist-packages (from ipython<9,>=8.0->nb_mypy) (4.9.0)\n",
            "Requirement already satisfied: prompt_toolkit<3.1.0,>=3.0.41 in /usr/local/lib/python3.11/dist-packages (from ipython<9,>=8.0->nb_mypy) (3.0.50)\n",
            "Requirement already satisfied: pygments>=2.4.0 in /usr/local/lib/python3.11/dist-packages (from ipython<9,>=8.0->nb_mypy) (2.18.0)\n",
            "Collecting stack_data (from ipython<9,>=8.0->nb_mypy)\n",
            "  Downloading stack_data-0.6.3-py3-none-any.whl.metadata (18 kB)\n",
            "Collecting traitlets>=5.13.0 (from ipython<9,>=8.0->nb_mypy)\n",
            "  Downloading traitlets-5.14.3-py3-none-any.whl.metadata (10 kB)\n",
            "Requirement already satisfied: typing_extensions>=4.6 in /usr/local/lib/python3.11/dist-packages (from ipython<9,>=8.0->nb_mypy) (4.13.0)\n",
            "Collecting mypy_extensions>=1.0.0 (from mypy<2,>=1->nb_mypy)\n",
            "  Downloading mypy_extensions-1.0.0-py3-none-any.whl.metadata (1.1 kB)\n",
            "Requirement already satisfied: parso<0.9.0,>=0.8.4 in /usr/local/lib/python3.11/dist-packages (from jedi>=0.16->ipython<9,>=8.0->nb_mypy) (0.8.4)\n",
            "Requirement already satisfied: ptyprocess>=0.5 in /usr/local/lib/python3.11/dist-packages (from pexpect>4.3->ipython<9,>=8.0->nb_mypy) (0.7.0)\n",
            "Requirement already satisfied: wcwidth in /usr/local/lib/python3.11/dist-packages (from prompt_toolkit<3.1.0,>=3.0.41->ipython<9,>=8.0->nb_mypy) (0.2.13)\n",
            "Collecting executing>=1.2.0 (from stack_data->ipython<9,>=8.0->nb_mypy)\n",
            "  Downloading executing-2.2.0-py2.py3-none-any.whl.metadata (8.9 kB)\n",
            "Collecting asttokens>=2.1.0 (from stack_data->ipython<9,>=8.0->nb_mypy)\n",
            "  Downloading asttokens-3.0.0-py3-none-any.whl.metadata (4.7 kB)\n",
            "Collecting pure-eval (from stack_data->ipython<9,>=8.0->nb_mypy)\n",
            "  Downloading pure_eval-0.2.3-py3-none-any.whl.metadata (6.3 kB)\n",
            "Downloading astor-0.8.1-py2.py3-none-any.whl (27 kB)\n",
            "Downloading ipython-8.34.0-py3-none-any.whl (826 kB)\n",
            "\u001b[2K   \u001b[90m━━━━━━━━━━━━━━━━━━━━━━━━━━━━━━━━━━━━━━━━\u001b[0m \u001b[32m826.7/826.7 kB\u001b[0m \u001b[31m19.3 MB/s\u001b[0m eta \u001b[36m0:00:00\u001b[0m\n",
            "\u001b[?25hDownloading mypy-1.15.0-cp311-cp311-manylinux_2_17_x86_64.manylinux2014_x86_64.manylinux_2_28_x86_64.whl (12.3 MB)\n",
            "\u001b[2K   \u001b[90m━━━━━━━━━━━━━━━━━━━━━━━━━━━━━━━━━━━━━━━━\u001b[0m \u001b[32m12.3/12.3 MB\u001b[0m \u001b[31m86.1 MB/s\u001b[0m eta \u001b[36m0:00:00\u001b[0m\n",
            "\u001b[?25hDownloading jedi-0.19.2-py2.py3-none-any.whl (1.6 MB)\n",
            "\u001b[2K   \u001b[90m━━━━━━━━━━━━━━━━━━━━━━━━━━━━━━━━━━━━━━━━\u001b[0m \u001b[32m1.6/1.6 MB\u001b[0m \u001b[31m51.6 MB/s\u001b[0m eta \u001b[36m0:00:00\u001b[0m\n",
            "\u001b[?25hDownloading mypy_extensions-1.0.0-py3-none-any.whl (4.7 kB)\n",
            "Downloading traitlets-5.14.3-py3-none-any.whl (85 kB)\n",
            "\u001b[2K   \u001b[90m━━━━━━━━━━━━━━━━━━━━━━━━━━━━━━━━━━━━━━━━\u001b[0m \u001b[32m85.4/85.4 kB\u001b[0m \u001b[31m6.6 MB/s\u001b[0m eta \u001b[36m0:00:00\u001b[0m\n",
            "\u001b[?25hDownloading stack_data-0.6.3-py3-none-any.whl (24 kB)\n",
            "Downloading asttokens-3.0.0-py3-none-any.whl (26 kB)\n",
            "Downloading executing-2.2.0-py2.py3-none-any.whl (26 kB)\n",
            "Downloading pure_eval-0.2.3-py3-none-any.whl (11 kB)\n",
            "Building wheels for collected packages: nb_mypy\n",
            "  Building wheel for nb_mypy (pyproject.toml) ... \u001b[?25l\u001b[?25hdone\n",
            "  Created wheel for nb_mypy: filename=nb_mypy-1.0.5-py3-none-any.whl size=7542 sha256=c727b81287ac89e7ad813836668998768059e0195e8edcb2da13d95ae65d5e86\n",
            "  Stored in directory: /root/.cache/pip/wheels/0f/61/a0/9c5120443e5c484bbbda1233edeeafe967dd364f980c45bfe7\n",
            "Successfully built nb_mypy\n",
            "Installing collected packages: pure-eval, traitlets, mypy_extensions, jedi, executing, asttokens, astor, stack_data, mypy, ipython, nb_mypy\n",
            "  Attempting uninstall: traitlets\n",
            "    Found existing installation: traitlets 5.7.1\n",
            "    Uninstalling traitlets-5.7.1:\n",
            "      Successfully uninstalled traitlets-5.7.1\n",
            "  Attempting uninstall: ipython\n",
            "    Found existing installation: ipython 7.34.0\n",
            "    Uninstalling ipython-7.34.0:\n",
            "      Successfully uninstalled ipython-7.34.0\n",
            "\u001b[31mERROR: pip's dependency resolver does not currently take into account all the packages that are installed. This behaviour is the source of the following dependency conflicts.\n",
            "google-colab 1.0.0 requires ipython==7.34.0, but you have ipython 8.34.0 which is incompatible.\u001b[0m\u001b[31m\n",
            "\u001b[0mSuccessfully installed astor-0.8.1 asttokens-3.0.0 executing-2.2.0 ipython-8.34.0 jedi-0.19.2 mypy-1.15.0 mypy_extensions-1.0.0 nb_mypy-1.0.5 pure-eval-0.2.3 stack_data-0.6.3 traitlets-5.14.3\n"
          ]
        },
        {
          "output_type": "display_data",
          "data": {
            "application/vnd.colab-display-data+json": {
              "pip_warning": {
                "packages": [
                  "IPython"
                ]
              },
              "id": "2b242882843e486cb4c6fd047c4454a1"
            }
          },
          "metadata": {}
        }
      ]
    },
    {
      "cell_type": "code",
      "source": [
        "%load_ext nb_mypy"
      ],
      "metadata": {
        "colab": {
          "base_uri": "https://localhost:8080/"
        },
        "id": "-cahmCzsS8rD",
        "outputId": "36c8f6b2-0758-46b5-b9e3-b3f837da920c"
      },
      "execution_count": null,
      "outputs": [
        {
          "output_type": "stream",
          "name": "stderr",
          "text": [
            "Version 1.0.5\n",
            "INFO:nb-mypy:Version 1.0.5\n"
          ]
        }
      ]
    },
    {
      "cell_type": "code",
      "source": [
        "def f(x: int) -> int:\n",
        "  return 2 * x\n",
        "\n",
        "print(f(2))\n",
        "print(f(3.0))"
      ],
      "metadata": {
        "colab": {
          "base_uri": "https://localhost:8080/"
        },
        "id": "51PMf8pdS--s",
        "outputId": "5231117f-b159-41a7-b130-66c839d3a30e"
      },
      "execution_count": null,
      "outputs": [
        {
          "output_type": "stream",
          "name": "stderr",
          "text": [
            "<cell>5: error: Argument 1 to \"f\" has incompatible type \"float\"; expected \"int\"  [arg-type]\n",
            "ERROR:nb-mypy:<cell>5: error: Argument 1 to \"f\" has incompatible type \"float\"; expected \"int\"  [arg-type]\n"
          ]
        },
        {
          "output_type": "stream",
          "name": "stdout",
          "text": [
            "4\n",
            "6.0\n"
          ]
        }
      ]
    },
    {
      "cell_type": "code",
      "source": [
        "a: int\n",
        "a = 1.0\n",
        "print(a)"
      ],
      "metadata": {
        "id": "ilISlhxhVOaw",
        "outputId": "16237cfb-1f8e-4eaf-c070-8a61d1cf97c4",
        "colab": {
          "base_uri": "https://localhost:8080/"
        }
      },
      "execution_count": null,
      "outputs": [
        {
          "output_type": "stream",
          "name": "stderr",
          "text": [
            "<cell>2: error: Incompatible types in assignment (expression has type \"float\", variable has type \"int\")  [assignment]\n",
            "ERROR:nb-mypy:<cell>2: error: Incompatible types in assignment (expression has type \"float\", variable has type \"int\")  [assignment]\n"
          ]
        },
        {
          "output_type": "stream",
          "name": "stdout",
          "text": [
            "1.0\n"
          ]
        }
      ]
    }
  ]
}