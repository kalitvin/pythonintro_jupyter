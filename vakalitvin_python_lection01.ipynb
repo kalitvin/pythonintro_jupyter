{
 "cells": [
  {
   "cell_type": "markdown",
   "metadata": {},
   "source": [
    "### Введение в программирование на python\n",
    "#### Автор: Калитвин В.А.\n",
    "#### kalitvin@gmail.com"
   ]
  },
  {
   "cell_type": "markdown",
   "metadata": {},
   "source": [
    "Python -  высокоуровневый язык программирования общего назначения с динамической строгой типизацией и автоматическим управлением памятью.\n",
    "\n",
    "https://www.python.org/\n",
    "\n",
    "Автор - сотрудник голландского института CWI Гвидо ван Россум.\n",
    "\n",
    "| <!-- -->    | <!-- -->    |\n",
    "|:-------------:|:-------------:|\n",
    "| <img src=\"images/gvido_van_rossum_1.jpg\" height=250px alt=\"Гвидо ван Россум\">         | <img src=\"images/gvido_van_rossum_2.jpg\" height=250px alt=\"Гвидо ван Россум\">         |\n",
    "\n",
    "Год создания - 1991.\n",
    "\n",
    "#### Особенности языка\n",
    "\n",
    "- Язык высокого уровня\n",
    "- Объектно-ориентированный\n",
    "- Интерпретируемый\n",
    "- Язык со строгой динамической типизацией\n",
    "- Универсальный\n",
    "- Свободно-распространяемый\n",
    "\n",
    "#### Основные ветки\n",
    "\n",
    "- Python 2.x\n",
    "- Python 3.x\n",
    "\n",
    "#### Парадигмы программирования\n",
    "\n",
    "- Императивное (структурный, процедурный, модульный подходы)\n",
    "- Объектно-ориентированное\n",
    "- Функциональное\n",
    "\n",
    "#### PEP8 - рекомендации по оформлению кода\n",
    "\n",
    "- отступ - 4 пробела\n",
    "- длина строки < 80 символов\n",
    "- змеиный стиль именования переменных: my_variable\n",
    "- константы: CONST_NAME\n",
    "\n",
    "https://www.python.org/dev/peps/pep-0008/\n",
    "\n",
    "#### Популярные среды разработки:\n",
    " - PyCharm\n",
    " - Eclispe + pydev\n",
    " - Anaconda\n",
    " - Thonny\n",
    " - Vim\n",
    " - Emacs\n",
    "\n",
    "#### Проекты на python\n",
    " - Dropbox\n",
    " - Instagram\n",
    " - Google\n",
    " - Spotify\n",
    " - Netflix\n",
    " - Uber\n",
    " - Pinterest\n",
    " - Bitbucket"
   ]
  },
  {
   "cell_type": "markdown",
   "metadata": {},
   "source": [
    "#### Дзен python"
   ]
  },
  {
   "cell_type": "code",
   "execution_count": 1,
   "metadata": {
    "pycharm": {
     "name": "#%%\n"
    }
   },
   "outputs": [
    {
     "name": "stdout",
     "output_type": "stream",
     "text": [
      "The Zen of Python, by Tim Peters\n",
      "\n",
      "Beautiful is better than ugly.\n",
      "Explicit is better than implicit.\n",
      "Simple is better than complex.\n",
      "Complex is better than complicated.\n",
      "Flat is better than nested.\n",
      "Sparse is better than dense.\n",
      "Readability counts.\n",
      "Special cases aren't special enough to break the rules.\n",
      "Although practicality beats purity.\n",
      "Errors should never pass silently.\n",
      "Unless explicitly silenced.\n",
      "In the face of ambiguity, refuse the temptation to guess.\n",
      "There should be one-- and preferably only one --obvious way to do it.\n",
      "Although that way may not be obvious at first unless you're Dutch.\n",
      "Now is better than never.\n",
      "Although never is often better than *right* now.\n",
      "If the implementation is hard to explain, it's a bad idea.\n",
      "If the implementation is easy to explain, it may be a good idea.\n",
      "Namespaces are one honking great idea -- let's do more of those!\n"
     ]
    }
   ],
   "source": [
    "import this\n"
   ]
  },
  {
   "cell_type": "markdown",
   "metadata": {},
   "source": [
    "#### Перевод\n",
    "- Красивое лучше, чем уродливое.\n",
    "- Явное лучше, чем неявное.\n",
    "- Простое лучше, чем сложное.\n",
    "- Сложное лучше, чем запутанное.\n",
    "- Плоское лучше, чем вложенное.\n",
    "- Разреженное лучше, чем плотное.\n",
    "- Читаемость имеет значение.\n",
    "- Особые случаи не настолько особые, чтобы нарушать правила.\n",
    "- При этом практичность важнее безупречности.\n",
    "- Ошибки никогда не должны замалчиваться.\n",
    "- Если они не замалчиваются явно.\n",
    "- Встретив двусмысленность, отбрось искушение угадать.\n",
    "- Должен существовать один и, желательно, только один очевидный способ сделать это.\n",
    "- Хотя он поначалу может быть и не очевиден, если вы не голландец.\n",
    "- Сейчас лучше, чем никогда.\n",
    "- Хотя никогда зачастую лучше, чем прямо сейчас.\n",
    "- Если реализацию сложно объяснить, то это плохая идея.\n",
    "- Если реализацию легко объяснить, то идея, возможно хороша.\n",
    "- Пространства имён - отличная штука! Будем делать их больше!\n"
   ]
  },
  {
   "cell_type": "markdown",
   "metadata": {},
   "source": [
    "#### Простейшая программа на python"
   ]
  },
  {
   "cell_type": "code",
   "execution_count": 3,
   "metadata": {
    "pycharm": {
     "name": "#%%\n"
    }
   },
   "outputs": [
    {
     "name": "stdout",
     "output_type": "stream",
     "text": [
      "Hello, World!\n"
     ]
    }
   ],
   "source": [
    "print(\"Hello, World!\")"
   ]
  },
  {
   "cell_type": "markdown",
   "metadata": {},
   "source": [
    "лучше"
   ]
  },
  {
   "cell_type": "code",
   "execution_count": 9,
   "metadata": {
    "pycharm": {
     "name": "#%%\n"
    }
   },
   "outputs": [
    {
     "name": "stdout",
     "output_type": "stream",
     "text": [
      "Hello, World!\n"
     ]
    }
   ],
   "source": [
    "def main():\n",
    "    print(\"Hello, World!\")\n",
    "\n",
    "if __name__=='main':\n",
    "    main()"
   ]
  },
  {
   "cell_type": "markdown",
   "metadata": {},
   "source": [
    "#### Схема выполнения программы\n",
    "\n",
    "<img src=\"images/python.png\" alt=\"python\">\n",
    "\n",
    "#### Типы данных\n",
    "\n",
    "- None\n",
    "- Логический (bool)\n",
    "- Числа (int, float, complex)\n",
    "- Последовательности (str, list, tuple)\n",
    "- Множества (set, frozenset)\n",
    "- Словари (dict)\n",
    "- Файлы (file)\n",
    "- Исключения (exceptions)\n",
    "- Другие (byte, ...)\n",
    "\n",
    "\n",
    "\n",
    "#### Операторы\n",
    "\n",
    "##### Арифметические операторы\n",
    "| <!-- -->    | <!-- -->    |\n",
    "|:-------------:|:-------------:|\n",
    "|\\+| сложение (конкатенация)|\n",
    "|\\-| вычитание|\n",
    "|\\*| умножение (повторение)|\n",
    "|/| деление|\n",
    "|//| деление с усечением дробной части|\n",
    "|**| возведение в степень|\n",
    "|%| остаток от деления|\n",
    "\n",
    "##### Операторы сравнения:\n",
    "| <!-- -->    | <!-- -->    | <!-- -->    |\n",
    "|:-------------:|:-------------:|:-------------:|\n",
    "|\\<|     a < b|     a меньше b|\n",
    "|\\>|     a > b|     a больше b|\n",
    "|\\<=|  a <= b|   a меньше или равно b|\n",
    "|\\>=|  a >= b|   a больше или равно b|\n",
    "|==|  a == b|   a равно b|\n",
    "|!=|   a != b|    a не равно b|\n",
    "\n",
    "##### Логические операторы\n",
    "and     логическое И\n",
    "\n",
    "or       логическое ИЛИ\n",
    "\n",
    "not     логическое отрицание\n",
    "\n",
    "Операторы проверки идентичности объектов: is; is not.\n",
    "\n",
    "Операторы проверки вхождения в последовательность: in, not in.\n",
    "\n",
    "##### Операторы присваивания\n",
    "| <!-- -->    | <!-- -->    | <!-- -->    |\n",
    "|:-------------:|:-------------:|:-------------:|\n",
    "|+=|     a += b|     a = a + b|\n",
    "|-=|      a -= b|       a = a — b|\n",
    "|*=|      a *= b|      a = a * b|\n",
    "|/=|       a /= b|      a = a / b|\n",
    "|**=|     a **= b|    a = a ** b|\n",
    "|%=|     a %= b|    a= a % b|\n",
    "\n",
    "##### Битовые операторы\n",
    "Битовые операторы\n",
    "\n",
    "Группировка в выражениях осуществляется с помощью круглых скобок.\n",
    "\n",
    "#### Переменные\n",
    "В python все является объектом (в том числе и переменные).\n",
    "\n",
    "Переменные можно представить как ссылки на объекты, содержащие значения.\n",
    "\n",
    "В python не требуется объявлять тип переменных.\n",
    "\n",
    "Тип данных определяется автоматически по типу выражения, стоящего после занка =.\n",
    "При этом можно изменять значение переменной одного типа на значение другого типа.\n",
    "\n",
    "Тип переменной можно узнать с помощью команды type.\n",
    "\n",
    "У каждого объекта есть идентификатор. Узнать идентификатор можно с помощью метода id()."
   ]
  },
  {
   "cell_type": "code",
   "execution_count": null,
   "metadata": {
    "pycharm": {
     "name": "#%%\n"
    }
   },
   "outputs": [],
   "source": [
    "a = 1 # int\n",
    "print(type(a))\n",
    "print(id(a))"
   ]
  },
  {
   "cell_type": "code",
   "execution_count": null,
   "metadata": {
    "pycharm": {
     "name": "#%%\n"
    }
   },
   "outputs": [],
   "source": [
    "b = 1.0 # float\n",
    "print(type(b))\n",
    "print(id(a))"
   ]
  },
  {
   "cell_type": "code",
   "execution_count": null,
   "metadata": {
    "pycharm": {
     "name": "#%%\n"
    }
   },
   "outputs": [],
   "source": [
    "c = 1 + 1j # complex\n",
    "print(type(c))\n",
    "print(id(c))"
   ]
  },
  {
   "cell_type": "markdown",
   "metadata": {
    "pycharm": {
     "name": "#%% md\n"
    }
   },
   "source": [
    "#### Изменяемые и неизменяемые типы\n",
    "К неизменяемым типам относятся int, float, str, tuple.\n",
    "К изменяемым типам относятся list, dict."
   ]
  },
  {
   "cell_type": "code",
   "execution_count": null,
   "metadata": {
    "pycharm": {
     "name": "#%%\n"
    }
   },
   "outputs": [],
   "source": [
    "x = 1\n",
    "print(id(x))\n",
    "x = 2\n",
    "print(id(x))\n"
   ]
  },
  {
   "cell_type": "code",
   "execution_count": null,
   "metadata": {
    "pycharm": {
     "name": "#%%\n"
    }
   },
   "outputs": [],
   "source": [
    "x = [1, 2, 3]\n",
    "print(x)\n",
    "print(id(x))\n",
    "x[0] = 5\n",
    "print(x)\n",
    "print(id(x))"
   ]
  },
  {
   "cell_type": "markdown",
   "metadata": {},
   "source": [
    "#### Имена переменных\n",
    " - Имя переменной может содержать только буквенно-цифровые символы и подчеркивание (Az, 0-9 и _).\n",
    " - Имя переменной должно начинаться с буквы или символа подчеркивания _.\n",
    " - Имя переменной не может начинаться с цифры.\n",
    " - Имена переменных чувствительны к регистру (abc, Abc и ABC — три разные переменные).\n",
    " - Имя переменной не должно совпадать с зарезервированным ключевым словом.\n",
    "\n",
    "Список ключевых слов"
   ]
  },
  {
   "cell_type": "code",
   "execution_count": 17,
   "metadata": {
    "pycharm": {
     "name": "#%%\n"
    }
   },
   "outputs": [
    {
     "name": "stdout",
     "output_type": "stream",
     "text": [
      "['False', 'None', 'True', 'and', 'as', 'assert', 'async', 'await', 'break', 'class', 'continue', 'def', 'del', 'elif', 'else', 'except', 'finally', 'for', 'from', 'global', 'if', 'import', 'in', 'is', 'lambda', 'nonlocal', 'not', 'or', 'pass', 'raise', 'return', 'try', 'while', 'with', 'yield']\n"
     ]
    }
   ],
   "source": [
    "import keyword\n",
    "print(keyword.kwlist)"
   ]
  },
  {
   "cell_type": "markdown",
   "metadata": {},
   "source": [
    "#### Комментарии\n",
    "Однострочные комментарии начинаются с символа #.\n",
    "Многострочных комментариев нет, но можно заключать текст комментария в тройные кавычки.\n",
    "```python\n",
    "\"\"\"\n",
    "comment\n",
    "comment\n",
    "comment\n",
    "\"\"\"\n",
    "```"
   ]
  }
 ],
 "metadata": {
  "kernelspec": {
   "display_name": "Python 3 (ipykernel)",
   "language": "python",
   "name": "python3"
  },
  "language_info": {
   "codemirror_mode": {
    "name": "ipython",
    "version": 3
   },
   "file_extension": ".py",
   "mimetype": "text/x-python",
   "name": "python",
   "nbconvert_exporter": "python",
   "pygments_lexer": "ipython3",
   "version": "3.10.0"
  },
  "pycharm": {
   "stem_cell": {
    "cell_type": "raw",
    "source": [
     "\n"
    ],
    "metadata": {
     "collapsed": false
    }
   }
  }
 },
 "nbformat": 4,
 "nbformat_minor": 1
}