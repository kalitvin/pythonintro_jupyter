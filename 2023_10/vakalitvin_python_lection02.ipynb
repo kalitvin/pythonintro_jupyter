{
  "nbformat": 4,
  "nbformat_minor": 0,
  "metadata": {
    "colab": {
      "provenance": []
    },
    "kernelspec": {
      "name": "python3",
      "display_name": "Python 3"
    },
    "language_info": {
      "name": "python"
    }
  },
  "cells": [
    {
      "cell_type": "markdown",
      "source": [
        "### Введение в программирование на python\n",
        "#### Ввод и вывод данных\n",
        "#### Автор: Калитвин В.А.\n",
        "#### kalitvin@gmail.com"
      ],
      "metadata": {
        "id": "h6rkY4wGYXu_"
      }
    },
    {
      "cell_type": "markdown",
      "source": [
        "Для организации вывода данных используется функция print. По\n",
        "умолчанию вывод осуществляется в стандартный поток (на экран), хотя\n",
        "можно организовать вывод в текстовый файл или на печать.\n",
        "Общий синтаксис функции print:\n",
        "\n",
        "print(*objects, sep=' ', end='\\n', file=None, flush=False)\n",
        "\n",
        "Здесь *objects - один или несколько объектов, которые будут отправ-\n",
        "лены в поток вывода"
      ],
      "metadata": {
        "id": "OOX6tGOlYsyk"
      }
    },
    {
      "cell_type": "code",
      "execution_count": 2,
      "metadata": {
        "colab": {
          "base_uri": "https://localhost:8080/"
        },
        "id": "prSBN4UCYQ7K",
        "outputId": "ac6632b4-0d3b-4c86-cad7-3cccd8ba583e"
      },
      "outputs": [
        {
          "output_type": "stream",
          "name": "stdout",
          "text": [
            "Text1\n",
            "Text1 Text2\n"
          ]
        }
      ],
      "source": [
        "print('Text1') # Вывод на экран одной строки\n",
        "print('Text1', 'Text2') # Вывод на экран двух строк"
      ]
    },
    {
      "cell_type": "markdown",
      "source": [
        "Необязательный параметр sep позволяет указать разделитель между\n",
        "объектами. Разделитель должен быть строкового типа. По умолчанию ис-\n",
        "пользуется пробел."
      ],
      "metadata": {
        "id": "rADiwRziZA50"
      }
    },
    {
      "cell_type": "code",
      "source": [
        "print('Text1', 'Text2', 'Text3') # Разделитель - пробел\n",
        "print('Text1', 'Text2', 'Text3', sep='.') # Разделитель - точка\n",
        "print('Text1', 'Text2', 'Text3', sep=';') # Разделитель - точка с запятой\n",
        "print('12', '40', '57', sep=':') # Разделитель - двоеточие"
      ],
      "metadata": {
        "colab": {
          "base_uri": "https://localhost:8080/"
        },
        "id": "KI2fVxqiZCkr",
        "outputId": "ff671a62-1e5d-4702-e135-bf65fc357d3c"
      },
      "execution_count": 4,
      "outputs": [
        {
          "output_type": "stream",
          "name": "stdout",
          "text": [
            "Text1 Text2 Text3\n",
            "Text1.Text2.Text3\n",
            "Text1;Text2;Text3\n",
            "12:40:57\n"
          ]
        }
      ]
    },
    {
      "cell_type": "markdown",
      "source": [
        "Необязательный параметр end позволяет указать символ, который будет выведен после всех объектов. По умолчанию используется символ перевода на новую строку ('\\n')."
      ],
      "metadata": {
        "id": "DDk2xgKWZfmU"
      }
    },
    {
      "cell_type": "code",
      "source": [
        "print('Text1', end='.') # В конце вывода - точка.\n",
        "print('Text2', end='.') # В конце вывода - точка.\n",
        "print('Text1', 'Text3', sep='.', end='.') # В конце вывода - точка.\n",
        "print('Text4') # В конце вывода - перевод на новую строку.\n",
        "print('Text5') # В конце вывода - перевод на новую строку.\n",
        "print('Text7') # В конце вывода - перевод на новую строку."
      ],
      "metadata": {
        "colab": {
          "base_uri": "https://localhost:8080/"
        },
        "id": "lNE865-DaZ4E",
        "outputId": "91122ad7-6df9-491e-cab8-0c611cfb0f18"
      },
      "execution_count": 5,
      "outputs": [
        {
          "output_type": "stream",
          "name": "stdout",
          "text": [
            "Text1.Text2.Text1.Text3.Text4\n",
            "Text5\n",
            "Text7\n"
          ]
        }
      ]
    },
    {
      "cell_type": "markdown",
      "source": [
        "Необязательный параметр file позволяет указать поток вывода. По\n",
        "умолчанию или в случае, когда указано значение None, используется\n",
        "sys.stdout (консоль). С помощью этого параметра можно перенаправить\n",
        "вывод в текстовый файл.\n",
        "\n",
        "Необязательный параметр flush позволяет отключить буферизированный вывод. По умолчанию используется значение False, то есть буферизация включена.\n",
        "\n",
        "В этом случае в поток вывода отправляются значения переменных."
      ],
      "metadata": {
        "id": "44PNOXfnazqO"
      }
    },
    {
      "cell_type": "code",
      "source": [
        "a = 1\n",
        "b = 5\n",
        "c = 7\n",
        "print('a=', a, 'b=', b, 'c=', c)"
      ],
      "metadata": {
        "colab": {
          "base_uri": "https://localhost:8080/"
        },
        "id": "AZGyVtvaa--b",
        "outputId": "c6895d29-d436-4997-ba5a-15c09bbe97d9"
      },
      "execution_count": 6,
      "outputs": [
        {
          "output_type": "stream",
          "name": "stdout",
          "text": [
            "a= 1 b= 5 c= 7\n"
          ]
        }
      ]
    },
    {
      "cell_type": "markdown",
      "source": [
        "### Форматированный вывод\n",
        "\n",
        "В предыдущем примере результат получен в виде\n",
        "\n",
        "a= 1 b= 5 c= 7\n",
        "\n",
        "Что делать, если мы хотим представить его следующим образом\n",
        "a=1, b=5, c=7.\n",
        "\n",
        "Эту задачу можно решить разными способами.\n",
        "\n",
        "Первый вариант - использовать параметры sep и end в функции print."
      ],
      "metadata": {
        "id": "wqDyNswcbS2A"
      }
    },
    {
      "cell_type": "code",
      "source": [
        "a = 1\n",
        "b = 5\n",
        "c = 7\n",
        "print('a=', a, ', ', 'b=', b, ', ', 'c=', c, '. ', sep='')"
      ],
      "metadata": {
        "colab": {
          "base_uri": "https://localhost:8080/"
        },
        "id": "FDcwgQQ7bYr0",
        "outputId": "6d477091-eedd-45cd-8d44-ad4b3c87cf78"
      },
      "execution_count": 7,
      "outputs": [
        {
          "output_type": "stream",
          "name": "stdout",
          "text": [
            "a=1, b=5, c=7. \n"
          ]
        }
      ]
    },
    {
      "cell_type": "code",
      "source": [
        "a = 1\n",
        "b = 5\n",
        "c = 7\n",
        "print('a=', a, ', ', 'b=', b, ', ', 'c=', c, sep='', end='.')"
      ],
      "metadata": {
        "colab": {
          "base_uri": "https://localhost:8080/"
        },
        "id": "2-p8BM1absKV",
        "outputId": "9bd7b6d9-08f7-485a-e59f-4a427259fb3c"
      },
      "execution_count": 8,
      "outputs": [
        {
          "output_type": "stream",
          "name": "stdout",
          "text": [
            "a=1, b=5, c=7."
          ]
        }
      ]
    },
    {
      "cell_type": "markdown",
      "source": [
        "Однако, назвать такие варианты реализации хорошо читаемыми едва ли возможно.\n",
        "\n",
        "Второй способ - использование оператора % в функции print."
      ],
      "metadata": {
        "id": "iKi6qfaDbp_f"
      }
    },
    {
      "cell_type": "code",
      "source": [
        "a = 1\n",
        "b = 5\n",
        "c = 7\n",
        "print('a=%1d, b=%1d, c=%1d.' % (a, b, c))"
      ],
      "metadata": {
        "colab": {
          "base_uri": "https://localhost:8080/"
        },
        "id": "bZ0Oh0-ub9_7",
        "outputId": "9dff63bf-1988-4e20-96cc-ee784b453c09"
      },
      "execution_count": 9,
      "outputs": [
        {
          "output_type": "stream",
          "name": "stdout",
          "text": [
            "a=1, b=5, c=7.\n"
          ]
        }
      ]
    },
    {
      "cell_type": "markdown",
      "source": [
        "Как видно из примера, сначала внутри строки мы записываем шаблоны для вывода значения переменной (у нас все три переменные целочисленные, состоят из одной цифры и для их вывода мы указываем шаблон %1d).\n",
        "\n",
        "Здесь параметр 1 означает, что при выводе выделяется место для размещения одной цифры, параметр d говорит о том, что при выводе будет использовано целое число.\n",
        "\n",
        "После строки записывается оператор % и затем указывается кортеж, содержащий значения переменных, которые будут подставлены в соответствующие места строки.\n",
        "\n",
        "Например, если для вывода нужно использовать три позиции, то запишем"
      ],
      "metadata": {
        "id": "RY5n0PFfcFzl"
      }
    },
    {
      "cell_type": "code",
      "source": [
        "a = 1\n",
        "b = 5\n",
        "c = 7\n",
        "print('a=%3d, b=%3d, c=%3d.' % (a, b, c))"
      ],
      "metadata": {
        "colab": {
          "base_uri": "https://localhost:8080/"
        },
        "id": "ELNhCub5cPCK",
        "outputId": "679933e3-e2fa-452c-adc4-60e5f66472c2"
      },
      "execution_count": 10,
      "outputs": [
        {
          "output_type": "stream",
          "name": "stdout",
          "text": [
            "a=  1, b=  5, c=  7.\n"
          ]
        }
      ]
    },
    {
      "cell_type": "markdown",
      "source": [
        "Наиболее удобным способом форматирования вывода является применение f - строк («formatted string»).\n",
        "\n",
        "Этот способ стал доступен в версии python 3.6. F-строки позволяют использовать переменные внутри строки (при этом переменные заключаются в фигурные скобки)."
      ],
      "metadata": {
        "id": "gy84yrX9cYok"
      }
    },
    {
      "cell_type": "code",
      "source": [
        "a = 1\n",
        "b = 5\n",
        "c = 7\n",
        "print(f'a={a}, b={b}, c={c}.')"
      ],
      "metadata": {
        "colab": {
          "base_uri": "https://localhost:8080/"
        },
        "id": "GF97a1cjcfpt",
        "outputId": "4d712f0f-cb40-4b3f-e3ad-9f659ae79048"
      },
      "execution_count": 12,
      "outputs": [
        {
          "output_type": "stream",
          "name": "stdout",
          "text": [
            "a=1, b=5, c=7.\n"
          ]
        }
      ]
    },
    {
      "cell_type": "markdown",
      "source": [
        "F - строки позволяют гибко настраивать вывод чисел. Для этого после имени переменной в фигурных скобках ставится двоеточие и указавается шаблон форматирования."
      ],
      "metadata": {
        "id": "tNqLBK9kcoq6"
      }
    },
    {
      "cell_type": "code",
      "source": [
        "a = 1.1224354\n",
        "b = 5.43543654\n",
        "c = 7.464564564\n",
        "print(f'a={a:.3f}, b={b:.4f}, c={c:.5f}.')"
      ],
      "metadata": {
        "colab": {
          "base_uri": "https://localhost:8080/"
        },
        "id": "VwrN6pnmcux2",
        "outputId": "892053e6-70fc-40b1-cdb5-3c2acecdb614"
      },
      "execution_count": 14,
      "outputs": [
        {
          "output_type": "stream",
          "name": "stdout",
          "text": [
            "a=1.122, b=5.4354, c=7.46456.\n"
          ]
        }
      ]
    },
    {
      "cell_type": "markdown",
      "source": [
        "В приведенном примере\n",
        "\n",
        "переменная a выводится с тремя знаками после запятой,\n",
        "\n",
        "переменная b – с четырьмя,\n",
        "\n",
        "переменная c – с пятью.\n",
        "\n",
        "Подробнее про шаблоны форматирования можно прочитать в документации python."
      ],
      "metadata": {
        "id": "PYKFB5OadEb0"
      }
    },
    {
      "cell_type": "markdown",
      "source": [],
      "metadata": {
        "id": "w6Nhpx4DdIOl"
      }
    }
  ]
}