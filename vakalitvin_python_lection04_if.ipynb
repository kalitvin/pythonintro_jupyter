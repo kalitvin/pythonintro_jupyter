{
  "nbformat": 4,
  "nbformat_minor": 0,
  "metadata": {
    "colab": {
      "provenance": []
    },
    "kernelspec": {
      "name": "python3",
      "display_name": "Python 3"
    },
    "language_info": {
      "name": "python"
    }
  },
  "cells": [
    {
      "cell_type": "markdown",
      "source": [
        "### Введение в программирование на python\n",
        "#### Автор: Калитвин В.А.\n",
        "#### kalitvin@gmail.com"
      ],
      "metadata": {
        "id": "rKqLIqJv6xWU"
      }
    },
    {
      "cell_type": "markdown",
      "source": [
        "### Условный оператор ###"
      ],
      "metadata": {
        "id": "JycDDCbJlnYY"
      }
    },
    {
      "cell_type": "markdown",
      "source": [
        "Условный оператор if\n",
        "\n",
        "Сокращенный вариант:\n",
        "\n",
        "`r = a if x else b`"
      ],
      "metadata": {
        "id": "5DNo9pp-63Kj"
      }
    },
    {
      "cell_type": "code",
      "execution_count": null,
      "metadata": {
        "id": "90_GhLQilhRe",
        "colab": {
          "base_uri": "https://localhost:8080/"
        },
        "outputId": "a943d1f5-bd78-4627-cc2e-fc546708e15c"
      },
      "outputs": [
        {
          "output_type": "stream",
          "name": "stdout",
          "text": [
            "1\n"
          ]
        }
      ],
      "source": [
        "x = 5\n",
        "r = 1 if x > 0 else 0\n",
        "print(r)"
      ]
    },
    {
      "cell_type": "markdown",
      "source": [
        "Условный оператор if\n",
        "\n",
        "\n",
        "```\n",
        "if <условие1>:\n",
        "  <команды1>\n",
        "elif условие2:\n",
        "  <команды2>\n",
        "else:\n",
        "  <команды3>\n",
        "```\n"
      ],
      "metadata": {
        "id": "0QrXzqOKGhda"
      }
    },
    {
      "cell_type": "markdown",
      "source": [
        "Пример. Напишите программу, которая находит наибольшее из двух введенных чисел."
      ],
      "metadata": {
        "id": "eS6QIXddHCB9"
      }
    },
    {
      "cell_type": "code",
      "source": [
        "x = float(input())\n",
        "print(x*3)"
      ],
      "metadata": {
        "colab": {
          "base_uri": "https://localhost:8080/"
        },
        "id": "LuqtrKIG-3CD",
        "outputId": "5277e655-e1f9-45a9-abc9-1139a6ee7b23"
      },
      "execution_count": null,
      "outputs": [
        {
          "output_type": "stream",
          "name": "stdout",
          "text": [
            "5\n",
            "15.0\n"
          ]
        }
      ]
    },
    {
      "cell_type": "code",
      "source": [
        "\n",
        "a = int(input())\n",
        "b = int(input())\n",
        "if a > b:\n",
        "  maximum = a\n",
        "else:\n",
        "  maximum = b\n",
        "\n",
        "if c > maximum:\n",
        "  maximum = c\n",
        "\n",
        "print(maximum)"
      ],
      "metadata": {
        "colab": {
          "base_uri": "https://localhost:8080/"
        },
        "id": "u50VVnvdHNN5",
        "outputId": "cb522148-a813-4584-a261-e596fc14b86e"
      },
      "execution_count": null,
      "outputs": [
        {
          "output_type": "stream",
          "name": "stdout",
          "text": [
            "7\n",
            "3\n",
            "7\n"
          ]
        }
      ]
    },
    {
      "cell_type": "code",
      "source": [
        "# Пример: напишите, программу, которая считывает два целых числа\n",
        "# и выводит на экран:\n",
        "# 'a > b', если a > b;\n",
        "# 'a = b', если a = b;\n",
        "# 'a < b', если a < b.\n",
        "\n",
        "a = int(input())\n",
        "b = int(input())\n",
        "if a > b:\n",
        "  print('a > b')\n",
        "elif a < b:\n",
        "  print('a < b')\n",
        "else:\n",
        "  print('a = b')"
      ],
      "metadata": {
        "colab": {
          "base_uri": "https://localhost:8080/"
        },
        "id": "jRNXSj9yHmdm",
        "outputId": "7608d674-2618-4148-f137-b648497de829"
      },
      "execution_count": null,
      "outputs": [
        {
          "output_type": "stream",
          "name": "stdout",
          "text": [
            "5\n",
            "7\n",
            "a < b\n"
          ]
        }
      ]
    },
    {
      "cell_type": "code",
      "source": [
        "(5 != 5) or (5>7)"
      ],
      "metadata": {
        "colab": {
          "base_uri": "https://localhost:8080/"
        },
        "id": "epX_LYz6peKk",
        "outputId": "ba2161b9-0068-4bb3-fb59-f2ffe46a5e70"
      },
      "execution_count": null,
      "outputs": [
        {
          "output_type": "execute_result",
          "data": {
            "text/plain": [
              "False"
            ]
          },
          "metadata": {},
          "execution_count": 19
        }
      ]
    },
    {
      "cell_type": "code",
      "source": [
        "if 0.1 + 0.2 == 0.3:\n",
        "  print('Yes')\n",
        "else:\n",
        "  print('No')"
      ],
      "metadata": {
        "colab": {
          "base_uri": "https://localhost:8080/"
        },
        "id": "gMyl5HfyrIgv",
        "outputId": "30dc7f8f-03d0-4dd9-dca4-29c24dc72422"
      },
      "execution_count": null,
      "outputs": [
        {
          "output_type": "stream",
          "name": "stdout",
          "text": [
            "No\n"
          ]
        }
      ]
    },
    {
      "cell_type": "code",
      "source": [
        "a = float(123456789123456789)\n",
        "b = float(123456789123456788)\n",
        "f = a - b\n",
        "print(f)"
      ],
      "metadata": {
        "colab": {
          "base_uri": "https://localhost:8080/"
        },
        "id": "jhb-BtxArW5y",
        "outputId": "ec6ec0df-8153-4bca-9cf7-9b3612de9eb0"
      },
      "execution_count": null,
      "outputs": [
        {
          "output_type": "stream",
          "name": "stdout",
          "text": [
            "0.0\n"
          ]
        }
      ]
    },
    {
      "cell_type": "code",
      "source": [
        "print(2**(-1076))"
      ],
      "metadata": {
        "colab": {
          "base_uri": "https://localhost:8080/"
        },
        "id": "StYkwyFJtoIn",
        "outputId": "503ecb75-3f8d-4c83-c98c-0bca26309fe8"
      },
      "execution_count": null,
      "outputs": [
        {
          "output_type": "stream",
          "name": "stdout",
          "text": [
            "0.0\n"
          ]
        }
      ]
    },
    {
      "cell_type": "code",
      "source": [
        "print(2.0**(1024))"
      ],
      "metadata": {
        "colab": {
          "base_uri": "https://localhost:8080/",
          "height": 177
        },
        "id": "0A8vyc0yuPPE",
        "outputId": "2b5bb6a9-0018-46d7-c777-f47670da745f"
      },
      "execution_count": null,
      "outputs": [
        {
          "output_type": "error",
          "ename": "OverflowError",
          "evalue": "(34, 'Numerical result out of range')",
          "traceback": [
            "\u001b[0;31m---------------------------------------------------------------------------\u001b[0m",
            "\u001b[0;31mOverflowError\u001b[0m                             Traceback (most recent call last)",
            "\u001b[0;32m<ipython-input-41-767805a54889>\u001b[0m in \u001b[0;36m<cell line: 1>\u001b[0;34m()\u001b[0m\n\u001b[0;32m----> 1\u001b[0;31m \u001b[0mprint\u001b[0m\u001b[0;34m(\u001b[0m\u001b[0;36m2.0\u001b[0m\u001b[0;34m**\u001b[0m\u001b[0;34m(\u001b[0m\u001b[0;36m1024\u001b[0m\u001b[0;34m)\u001b[0m\u001b[0;34m)\u001b[0m\u001b[0;34m\u001b[0m\u001b[0;34m\u001b[0m\u001b[0m\n\u001b[0m",
            "\u001b[0;31mOverflowError\u001b[0m: (34, 'Numerical result out of range')"
          ]
        }
      ]
    },
    {
      "cell_type": "code",
      "source": [
        "print(1+2.0**(-53))"
      ],
      "metadata": {
        "colab": {
          "base_uri": "https://localhost:8080/"
        },
        "id": "EGUEhHUov_6-",
        "outputId": "156a7593-50ad-4d93-b432-fdf8fa300382"
      },
      "execution_count": null,
      "outputs": [
        {
          "output_type": "stream",
          "name": "stdout",
          "text": [
            "1.0\n"
          ]
        }
      ]
    }
  ]
}