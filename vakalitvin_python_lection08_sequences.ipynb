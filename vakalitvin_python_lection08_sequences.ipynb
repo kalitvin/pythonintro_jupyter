{
  "nbformat": 4,
  "nbformat_minor": 0,
  "metadata": {
    "colab": {
      "provenance": []
    },
    "kernelspec": {
      "name": "python3",
      "display_name": "Python 3"
    },
    "language_info": {
      "name": "python"
    }
  },
  "cells": [
    {
      "cell_type": "markdown",
      "source": [
        "### Введение в программирование на python\n",
        "#### Автор: Калитвин В.А.\n",
        "#### kalitvin@gmail.com"
      ],
      "metadata": {
        "id": "VkV3YGyTIzbB"
      }
    },
    {
      "cell_type": "markdown",
      "source": [
        "#### Последовательности"
      ],
      "metadata": {
        "id": "DGP7U303I1Tn"
      }
    },
    {
      "cell_type": "markdown",
      "source": [
        "Последовательности в Python напоминают массивы в других языках программирования. Последовательности могут содержать разнородные объекты, изменять размер и осуществлять итерации, по элементам. К последовательностям относятся списки, строки и кортежи. Доступ к элементам последовательности можно осуществлять с помощью индексов (допускаются отрицательные). Используя индексы, можно получить доступ сразу к нескольким элементам последовательности (извлечение среза). Для этого используются три индекса (например, i, j и h), разделенные двоеточием. Индекс h указывает шаг, с которым осуществляется доступ к индексам последовательности. Элемент с индексом j не включается в срез. Если отсутствует индекс i, то извлекается срез от начала до элемента с индексом j. Если отсутствует индекс j, то извлекается срез от элемента с индексом i до конца. Индексация элементов списка начинается с нуля. С помощью знака + можно осуществить конкатенацию последовательностей, знака * — дублирование. Операторы in и not in позволяют осуществить проверку на вхождение. С помощью встроенной функции len() можно узнать длину последовательности. В Python можно использовать инструкцию присваивания последовательностей."
      ],
      "metadata": {
        "id": "PETxf7dpKJGO"
      }
    },
    {
      "cell_type": "markdown",
      "source": [
        "##### Списки"
      ],
      "metadata": {
        "id": "u5sQad4PI_E-"
      }
    },
    {
      "cell_type": "markdown",
      "source": [
        "\n",
        "Списки могут содержать объекты любых типов, изменять содержимое и размер."
      ],
      "metadata": {
        "id": "CZEa4aUbKOOu"
      }
    },
    {
      "cell_type": "code",
      "execution_count": null,
      "metadata": {
        "colab": {
          "base_uri": "https://localhost:8080/"
        },
        "id": "TyxPR3uJIy4a",
        "outputId": "0d32363a-1918-40f3-a3e5-40f8cad2e91c"
      },
      "outputs": [
        {
          "output_type": "stream",
          "name": "stdout",
          "text": [
            "[3, 1, 5, 'a', 'b', 'cd', 7, 2.5, 5.5, 7.5, 7]\n",
            "<class 'list'>\n",
            "3\n",
            "a\n"
          ]
        }
      ],
      "source": [
        "# Создать список L\n",
        "L = [3, 1, 5, 'a', 'b', 'cd', 7, 2.5, 5.5, 7.5, 7]\n",
        "print(L)\n",
        "print(type(L))\n",
        "print(L[0])\n",
        "print(L[3])"
      ]
    },
    {
      "cell_type": "code",
      "source": [
        "# Срез, содержащий элементы с индексами 1-4\n",
        "L[1:5]"
      ],
      "metadata": {
        "colab": {
          "base_uri": "https://localhost:8080/"
        },
        "id": "f6aWH2KPKoLe",
        "outputId": "fd35b4e9-3741-455b-acdf-73ba3b6e6b4b"
      },
      "execution_count": null,
      "outputs": [
        {
          "output_type": "execute_result",
          "data": {
            "text/plain": [
              "[1, 5, 'a', 'b']"
            ]
          },
          "metadata": {},
          "execution_count": 2
        }
      ]
    },
    {
      "cell_type": "code",
      "source": [
        "# Срез, содержащий элементы от начала списка\n",
        "# до элемента с индексом 6\n",
        "L[:7]"
      ],
      "metadata": {
        "colab": {
          "base_uri": "https://localhost:8080/"
        },
        "id": "KSLowWYyKyxm",
        "outputId": "9e5ba6a1-fd81-4ef7-a3a6-c73e69b551d0"
      },
      "execution_count": null,
      "outputs": [
        {
          "output_type": "execute_result",
          "data": {
            "text/plain": [
              "[3, 1, 5, 'a', 'b', 'cd', 7]"
            ]
          },
          "metadata": {},
          "execution_count": 3
        }
      ]
    },
    {
      "cell_type": "code",
      "source": [
        "# Срез, содержащий элементы от элемента\n",
        "# с индексом 3 до конца списка\n",
        "L[3:]"
      ],
      "metadata": {
        "colab": {
          "base_uri": "https://localhost:8080/"
        },
        "id": "7zRDD03xK5z-",
        "outputId": "17150544-e9fb-4888-c1b8-09670e9993d5"
      },
      "execution_count": null,
      "outputs": [
        {
          "output_type": "execute_result",
          "data": {
            "text/plain": [
              "['a', 'b', 'cd', 7, 2.5, 5.5, 7.5, 7]"
            ]
          },
          "metadata": {},
          "execution_count": 4
        }
      ]
    },
    {
      "cell_type": "code",
      "source": [
        "# Срез, содержащий каждый третий элемент списка\n",
        "L[::2]"
      ],
      "metadata": {
        "colab": {
          "base_uri": "https://localhost:8080/"
        },
        "id": "VYmVqGtLK-R_",
        "outputId": "e858978f-8c18-4a7d-e486-859160bdb6d4"
      },
      "execution_count": null,
      "outputs": [
        {
          "output_type": "execute_result",
          "data": {
            "text/plain": [
              "[3, 5, 'b', 7, 5.5, 7]"
            ]
          },
          "metadata": {},
          "execution_count": 5
        }
      ]
    },
    {
      "cell_type": "code",
      "source": [
        "# Добавить элемент со значением 7 в конец списка\n",
        "L.append(7)\n",
        "L"
      ],
      "metadata": {
        "colab": {
          "base_uri": "https://localhost:8080/"
        },
        "id": "-DNeSVo5LEgT",
        "outputId": "b9339e22-b5bb-475f-ed78-43f73b2c4268"
      },
      "execution_count": null,
      "outputs": [
        {
          "output_type": "execute_result",
          "data": {
            "text/plain": [
              "[3, 1, 5, 'a', 'b', 'cd', 7, 2.5, 5.5, 7.5, 7, 7]"
            ]
          },
          "metadata": {},
          "execution_count": 6
        }
      ]
    },
    {
      "cell_type": "code",
      "source": [
        "# Удалить элемент со значением 7\n",
        "L.remove(7)\n",
        "L"
      ],
      "metadata": {
        "colab": {
          "base_uri": "https://localhost:8080/"
        },
        "id": "BjspC5-ZLJGS",
        "outputId": "e47c7803-4e05-4f22-b1e1-9afbe4e5d346"
      },
      "execution_count": null,
      "outputs": [
        {
          "output_type": "execute_result",
          "data": {
            "text/plain": [
              "[3, 1, 5, 'a', 'b', 2.5, 5.5, 7.5, 7]"
            ]
          },
          "metadata": {},
          "execution_count": 9
        }
      ]
    },
    {
      "cell_type": "code",
      "source": [
        "# Удалить из списка элемент с индексом 5\n",
        "L.pop(5)\n",
        "L"
      ],
      "metadata": {
        "colab": {
          "base_uri": "https://localhost:8080/"
        },
        "id": "iRyMKjg6LO9z",
        "outputId": "09152979-4368-4f91-c0c1-d9344342f227"
      },
      "execution_count": null,
      "outputs": [
        {
          "output_type": "execute_result",
          "data": {
            "text/plain": [
              "[3, 1, 5, 'a', 'b', 5.5, 7.5, 7]"
            ]
          },
          "metadata": {},
          "execution_count": 10
        }
      ]
    },
    {
      "cell_type": "code",
      "source": [
        "# Вставить в позицию 3 списка элемент со значением 'c'\n",
        "L.insert(3, 'c')\n",
        "L"
      ],
      "metadata": {
        "colab": {
          "base_uri": "https://localhost:8080/"
        },
        "id": "y2fZZ4diLWBL",
        "outputId": "8a89e4a1-4a10-4742-d6ff-e76b76541415"
      },
      "execution_count": null,
      "outputs": [
        {
          "output_type": "execute_result",
          "data": {
            "text/plain": [
              "[3, 1, 5, 'c', 'a', 'b', 5.5, 7.5, 7]"
            ]
          },
          "metadata": {},
          "execution_count": 11
        }
      ]
    },
    {
      "cell_type": "code",
      "source": [
        "# Извлечь из списка последний элемент\n",
        "L[-1]"
      ],
      "metadata": {
        "colab": {
          "base_uri": "https://localhost:8080/"
        },
        "id": "97SywShJLbki",
        "outputId": "91bae947-cb85-4076-a65b-7ffe9f274c73"
      },
      "execution_count": null,
      "outputs": [
        {
          "output_type": "execute_result",
          "data": {
            "text/plain": [
              "7"
            ]
          },
          "metadata": {},
          "execution_count": 12
        }
      ]
    },
    {
      "cell_type": "code",
      "source": [
        "L[::-1]"
      ],
      "metadata": {
        "colab": {
          "base_uri": "https://localhost:8080/"
        },
        "id": "wRepLyqx2wEQ",
        "outputId": "77871842-2a5c-4dbb-db3e-e0e175242cde"
      },
      "execution_count": null,
      "outputs": [
        {
          "output_type": "execute_result",
          "data": {
            "text/plain": [
              "[7, 7.5, 5.5, 'b', 'a', 'c', 5, 1, 3]"
            ]
          },
          "metadata": {},
          "execution_count": 13
        }
      ]
    },
    {
      "cell_type": "code",
      "source": [
        "s = 'казак'\n",
        "if s[::-1]==s:\n",
        "  print('Palindrom')\n",
        "else:\n",
        "  print('not palindrom')"
      ],
      "metadata": {
        "colab": {
          "base_uri": "https://localhost:8080/"
        },
        "id": "rjvxyM0ras7g",
        "outputId": "11462cfc-8244-49db-d679-28647032b6ca"
      },
      "execution_count": null,
      "outputs": [
        {
          "output_type": "stream",
          "name": "stdout",
          "text": [
            "Palindrom\n"
          ]
        }
      ]
    },
    {
      "cell_type": "code",
      "source": [
        "# Объединить списки list и [4, 'f']\n",
        "L.extend([4, 'f'])\n",
        "L"
      ],
      "metadata": {
        "colab": {
          "base_uri": "https://localhost:8080/"
        },
        "id": "Wa9zdRaNLgwS",
        "outputId": "237e9e98-5a7b-4c41-f978-17f4946218cc"
      },
      "execution_count": null,
      "outputs": [
        {
          "output_type": "execute_result",
          "data": {
            "text/plain": [
              "[3, 1, 5, 'c', 'a', 'b', 2.5, 5.5, 7.5, 4, 'f']"
            ]
          },
          "metadata": {},
          "execution_count": 20
        }
      ]
    },
    {
      "cell_type": "code",
      "source": [
        "# Отсортировать список по возрастанию\n",
        "L  = [1, 5, 3, 4, 7.0, 6.0 ]\n",
        "L.sort()\n",
        "L"
      ],
      "metadata": {
        "colab": {
          "base_uri": "https://localhost:8080/"
        },
        "id": "83c1QkOwLl1T",
        "outputId": "5a8f593b-7435-41a5-b118-01e7b3020aab"
      },
      "execution_count": null,
      "outputs": [
        {
          "output_type": "execute_result",
          "data": {
            "text/plain": [
              "[1, 3, 4, 5, 6.0, 7.0]"
            ]
          },
          "metadata": {},
          "execution_count": 38
        }
      ]
    },
    {
      "cell_type": "code",
      "source": [
        "# Отсортировать список по убыванию\n",
        "L.reverse()\n",
        "L"
      ],
      "metadata": {
        "colab": {
          "base_uri": "https://localhost:8080/"
        },
        "id": "j2K9zdioL4Uy",
        "outputId": "2f934a0a-8f09-41e2-a88c-7f32b998d371"
      },
      "execution_count": null,
      "outputs": [
        {
          "output_type": "execute_result",
          "data": {
            "text/plain": [
              "[7.0, 6.0, 5, 4, 3, 1]"
            ]
          },
          "metadata": {},
          "execution_count": 39
        }
      ]
    },
    {
      "cell_type": "code",
      "source": [
        "# Очень легко создавать вложенные списки\n",
        "L1 = [['a', 'b', 'c'],\n",
        "      [1, 2, 3],\n",
        "      [1.5, 2.5, 3.5]]\n",
        "L1"
      ],
      "metadata": {
        "colab": {
          "base_uri": "https://localhost:8080/"
        },
        "id": "4DAxf9tdL9Ii",
        "outputId": "86597e41-86b4-4ab0-d2ed-bbbd8765aca2"
      },
      "execution_count": null,
      "outputs": [
        {
          "output_type": "execute_result",
          "data": {
            "text/plain": [
              "[['a', 'b', 'c'], [1, 2, 3], [1.5, 2.5, 3.5]]"
            ]
          },
          "metadata": {},
          "execution_count": 15
        }
      ]
    },
    {
      "cell_type": "code",
      "source": [
        "L1[0]"
      ],
      "metadata": {
        "colab": {
          "base_uri": "https://localhost:8080/"
        },
        "id": "8KeFi09-MFa7",
        "outputId": "1ae41798-375e-427b-80e4-7502d278cb52"
      },
      "execution_count": null,
      "outputs": [
        {
          "output_type": "execute_result",
          "data": {
            "text/plain": [
              "['a', 'b', 'c']"
            ]
          },
          "metadata": {},
          "execution_count": 16
        }
      ]
    },
    {
      "cell_type": "code",
      "source": [
        "L1[2][0]"
      ],
      "metadata": {
        "colab": {
          "base_uri": "https://localhost:8080/"
        },
        "id": "59tqtvKDMIky",
        "outputId": "4800929a-f8dc-459f-df87-f289427618c8"
      },
      "execution_count": null,
      "outputs": [
        {
          "output_type": "execute_result",
          "data": {
            "text/plain": [
              "1.5"
            ]
          },
          "metadata": {},
          "execution_count": 17
        }
      ]
    },
    {
      "cell_type": "code",
      "source": [
        "for i in [1,2,3]:\n",
        "  print(i)"
      ],
      "metadata": {
        "colab": {
          "base_uri": "https://localhost:8080/"
        },
        "id": "mc5ltWE1-jwN",
        "outputId": "8537b535-e1e3-488c-bd91-1c18e59e9ee3"
      },
      "execution_count": null,
      "outputs": [
        {
          "output_type": "stream",
          "name": "stdout",
          "text": [
            "1\n",
            "2\n",
            "3\n"
          ]
        }
      ]
    },
    {
      "cell_type": "code",
      "source": [
        "# Со списками удобно работать, используя выражения генераторов списков\n",
        "L=[x for x in range(20)]\n",
        "L"
      ],
      "metadata": {
        "colab": {
          "base_uri": "https://localhost:8080/"
        },
        "id": "HlFvLIGsMMq6",
        "outputId": "82b59995-ffdc-46ad-a64e-de3fb15d0dd8"
      },
      "execution_count": null,
      "outputs": [
        {
          "output_type": "execute_result",
          "data": {
            "text/plain": [
              "[0, 1, 2, 3, 4, 5, 6, 7, 8, 9, 10, 11, 12, 13, 14, 15, 16, 17, 18, 19]"
            ]
          },
          "metadata": {},
          "execution_count": 2
        }
      ]
    },
    {
      "cell_type": "code",
      "source": [
        "[el + 1 for el in L]"
      ],
      "metadata": {
        "colab": {
          "base_uri": "https://localhost:8080/"
        },
        "id": "ixe9aJSRMUe2",
        "outputId": "fff1f2bb-4505-4f28-be92-ded45a435a94"
      },
      "execution_count": null,
      "outputs": [
        {
          "output_type": "execute_result",
          "data": {
            "text/plain": [
              "[1, 2, 3, 4, 5, 6, 7, 8, 9, 10, 11, 12, 13, 14, 15, 16, 17, 18, 19, 20]"
            ]
          },
          "metadata": {},
          "execution_count": 3
        }
      ]
    },
    {
      "cell_type": "code",
      "source": [
        "L1 = [['a', 'b', 'c'], [1, 2, 3], [1.5, 2.5, 3.5]]\n",
        "L2 = [row[1] for row in L1]\n",
        "L2"
      ],
      "metadata": {
        "colab": {
          "base_uri": "https://localhost:8080/"
        },
        "id": "_ZYrmBE7MgTu",
        "outputId": "919c3219-3333-4306-c925-2cbfaadf1790"
      },
      "execution_count": null,
      "outputs": [
        {
          "output_type": "execute_result",
          "data": {
            "text/plain": [
              "['b', 2, 2.5]"
            ]
          },
          "metadata": {},
          "execution_count": 20
        }
      ]
    },
    {
      "cell_type": "code",
      "source": [
        "# Копирование списков\n",
        "a = [1, 2, 3]\n",
        "b = a\n",
        "print(a)\n",
        "print(b)\n",
        "a[0]=5\n",
        "print(a)\n",
        "print(b)"
      ],
      "metadata": {
        "colab": {
          "base_uri": "https://localhost:8080/"
        },
        "id": "XdCpD_UxK1Y7",
        "outputId": "24745f31-3242-441b-ddf2-82c7b3e50cbb"
      },
      "execution_count": null,
      "outputs": [
        {
          "output_type": "stream",
          "name": "stdout",
          "text": [
            "[1, 2, 3]\n",
            "[1, 2, 3]\n",
            "[5, 2, 3]\n",
            "[5, 2, 3]\n"
          ]
        }
      ]
    },
    {
      "cell_type": "code",
      "source": [
        "# Копирование списков\n",
        "a = [1, 2, 3]\n",
        "b = a.copy()\n",
        "print(a)\n",
        "print(b)\n",
        "a[0]=5\n",
        "print(a)\n",
        "print(b)"
      ],
      "metadata": {
        "colab": {
          "base_uri": "https://localhost:8080/"
        },
        "id": "HLQgoC6ZLcFM",
        "outputId": "983b68e3-2d5e-4229-b743-6c4b06b89209"
      },
      "execution_count": null,
      "outputs": [
        {
          "output_type": "stream",
          "name": "stdout",
          "text": [
            "[1, 2, 3]\n",
            "[1, 2, 3]\n",
            "[5, 2, 3]\n",
            "[1, 2, 3]\n"
          ]
        }
      ]
    },
    {
      "cell_type": "markdown",
      "source": [
        "##### Строки"
      ],
      "metadata": {
        "id": "dBJlA_XnM_x_"
      }
    },
    {
      "cell_type": "markdown",
      "source": [
        "Строки, как и списки, являются последовательностями. В отличие от списков, строки не могут изменять содержимое и размер. При попытке изменении строки в действительности создается модифицированная новая строка. Строка объявляется с помощью одинарных или двойных кавычек. Кроме этого можно использовать тройные кавычки, которые позволяют использовать в строках специальные символы без использования дополнительных обозначений. Это особенно удобно при отображении блоков текста. Для строк существует большое количество методов, описание которых можно найти в документации."
      ],
      "metadata": {
        "id": "awgLXwkuSPwx"
      }
    },
    {
      "cell_type": "code",
      "source": [
        "S='numerical methods'\n",
        "len(S)"
      ],
      "metadata": {
        "colab": {
          "base_uri": "https://localhost:8080/"
        },
        "id": "dsyTv01qSW-h",
        "outputId": "b9c79ed2-4acb-41dd-efb5-5cfaae6cf4b8"
      },
      "execution_count": null,
      "outputs": [
        {
          "output_type": "execute_result",
          "data": {
            "text/plain": [
              "17"
            ]
          },
          "metadata": {},
          "execution_count": 51
        }
      ]
    },
    {
      "cell_type": "code",
      "source": [
        "S.title()"
      ],
      "metadata": {
        "colab": {
          "base_uri": "https://localhost:8080/",
          "height": 35
        },
        "id": "5Rj0CGx1SlO4",
        "outputId": "fac7f060-73ab-4137-8a99-1788fb52b56e"
      },
      "execution_count": null,
      "outputs": [
        {
          "output_type": "execute_result",
          "data": {
            "text/plain": [
              "'Numerical Methods'"
            ],
            "application/vnd.google.colaboratory.intrinsic+json": {
              "type": "string"
            }
          },
          "metadata": {},
          "execution_count": 28
        }
      ]
    },
    {
      "cell_type": "code",
      "source": [
        "S.capitalize()"
      ],
      "metadata": {
        "colab": {
          "base_uri": "https://localhost:8080/",
          "height": 35
        },
        "id": "yO-ShK0OS10p",
        "outputId": "344547b5-661e-4ec0-8756-2462a9af53c6"
      },
      "execution_count": null,
      "outputs": [
        {
          "output_type": "execute_result",
          "data": {
            "text/plain": [
              "'Numerical methods'"
            ],
            "application/vnd.google.colaboratory.intrinsic+json": {
              "type": "string"
            }
          },
          "metadata": {},
          "execution_count": 29
        }
      ]
    },
    {
      "cell_type": "code",
      "source": [
        "S.upper()"
      ],
      "metadata": {
        "colab": {
          "base_uri": "https://localhost:8080/",
          "height": 35
        },
        "id": "CbmbaHsdS5vB",
        "outputId": "97199d7a-06a6-481d-a653-c08fd12998d9"
      },
      "execution_count": null,
      "outputs": [
        {
          "output_type": "execute_result",
          "data": {
            "text/plain": [
              "'NUMERICAL METHODS'"
            ],
            "application/vnd.google.colaboratory.intrinsic+json": {
              "type": "string"
            }
          },
          "metadata": {},
          "execution_count": 30
        }
      ]
    },
    {
      "cell_type": "code",
      "source": [
        "S.lower()\n"
      ],
      "metadata": {
        "colab": {
          "base_uri": "https://localhost:8080/",
          "height": 35
        },
        "id": "SpqtIB4TTPKJ",
        "outputId": "fc94c28c-5429-483c-a8cf-5b120957a750"
      },
      "execution_count": null,
      "outputs": [
        {
          "output_type": "execute_result",
          "data": {
            "text/plain": [
              "'numerical methods'"
            ],
            "application/vnd.google.colaboratory.intrinsic+json": {
              "type": "string"
            }
          },
          "metadata": {},
          "execution_count": 31
        }
      ]
    },
    {
      "cell_type": "code",
      "source": [
        "S.find('methods')"
      ],
      "metadata": {
        "colab": {
          "base_uri": "https://localhost:8080/"
        },
        "id": "sf5YvocbTRd5",
        "outputId": "f9610431-9b46-4359-e4a8-ce3d7dc41ef8"
      },
      "execution_count": null,
      "outputs": [
        {
          "output_type": "execute_result",
          "data": {
            "text/plain": [
              "10"
            ]
          },
          "metadata": {},
          "execution_count": 32
        }
      ]
    },
    {
      "cell_type": "code",
      "source": [
        "S.count('m')"
      ],
      "metadata": {
        "colab": {
          "base_uri": "https://localhost:8080/"
        },
        "id": "by7l-zRCTX4p",
        "outputId": "3b09daf4-8765-48cf-df21-3b20feaca2df"
      },
      "execution_count": null,
      "outputs": [
        {
          "output_type": "execute_result",
          "data": {
            "text/plain": [
              "2"
            ]
          },
          "metadata": {},
          "execution_count": 33
        }
      ]
    },
    {
      "cell_type": "code",
      "source": [
        "S = S + '!'\n",
        "S"
      ],
      "metadata": {
        "colab": {
          "base_uri": "https://localhost:8080/",
          "height": 35
        },
        "id": "O-0SeK3qTacJ",
        "outputId": "7db07823-bb93-48c7-d835-85713cb65803"
      },
      "execution_count": null,
      "outputs": [
        {
          "output_type": "execute_result",
          "data": {
            "text/plain": [
              "'numerical methods!'"
            ],
            "application/vnd.google.colaboratory.intrinsic+json": {
              "type": "string"
            }
          },
          "metadata": {},
          "execution_count": 34
        }
      ]
    },
    {
      "cell_type": "code",
      "source": [
        "S.replace('!','.')"
      ],
      "metadata": {
        "colab": {
          "base_uri": "https://localhost:8080/",
          "height": 35
        },
        "id": "r6Sq3UF-Te-W",
        "outputId": "1e8b0974-2604-4f27-9bb7-9d411b4627f7"
      },
      "execution_count": null,
      "outputs": [
        {
          "output_type": "execute_result",
          "data": {
            "text/plain": [
              "'numerical methods.'"
            ],
            "application/vnd.google.colaboratory.intrinsic+json": {
              "type": "string"
            }
          },
          "metadata": {},
          "execution_count": 35
        }
      ]
    },
    {
      "cell_type": "code",
      "source": [
        "S[:9]"
      ],
      "metadata": {
        "colab": {
          "base_uri": "https://localhost:8080/",
          "height": 35
        },
        "id": "hq1rchZ4ThLO",
        "outputId": "5b90222e-c47f-4095-a980-b5d3a57fbd6d"
      },
      "execution_count": null,
      "outputs": [
        {
          "output_type": "execute_result",
          "data": {
            "text/plain": [
              "'numerical'"
            ],
            "application/vnd.google.colaboratory.intrinsic+json": {
              "type": "string"
            }
          },
          "metadata": {},
          "execution_count": 36
        }
      ]
    },
    {
      "cell_type": "code",
      "source": [
        "S[10:]"
      ],
      "metadata": {
        "colab": {
          "base_uri": "https://localhost:8080/",
          "height": 35
        },
        "id": "e28xcRGRTjZe",
        "outputId": "cf179376-0a36-4d67-da3e-08186f89ed34"
      },
      "execution_count": null,
      "outputs": [
        {
          "output_type": "execute_result",
          "data": {
            "text/plain": [
              "'methods!'"
            ],
            "application/vnd.google.colaboratory.intrinsic+json": {
              "type": "string"
            }
          },
          "metadata": {},
          "execution_count": 37
        }
      ]
    },
    {
      "cell_type": "code",
      "source": [
        "s = 'a1 bc d e'\n",
        "s.split()"
      ],
      "metadata": {
        "colab": {
          "base_uri": "https://localhost:8080/"
        },
        "id": "Uw9PU6tmTndA",
        "outputId": "78c26fbb-7d4e-43fd-e31c-114ace5ec992"
      },
      "execution_count": null,
      "outputs": [
        {
          "output_type": "execute_result",
          "data": {
            "text/plain": [
              "['a1', 'bc', 'd', 'e']"
            ]
          },
          "metadata": {},
          "execution_count": 39
        }
      ]
    },
    {
      "cell_type": "code",
      "source": [
        "a = input().split()\n",
        "print(a)\n",
        "print(type(a))\n",
        "print(type(a[0]))"
      ],
      "metadata": {
        "colab": {
          "base_uri": "https://localhost:8080/"
        },
        "id": "1OpXj_MzT_-e",
        "outputId": "29470299-3587-45b3-c65e-4153f2633994"
      },
      "execution_count": null,
      "outputs": [
        {
          "output_type": "stream",
          "name": "stdout",
          "text": [
            "1 2 3 4 5\n",
            "['1', '2', '3', '4', '5']\n",
            "<class 'list'>\n",
            "<class 'str'>\n"
          ]
        }
      ]
    },
    {
      "cell_type": "code",
      "source": [
        "#for i in range(len(a)):\n",
        "#  a[i] = int(a[i])\n",
        "\n",
        "a = [int(x) for x in a]\n",
        "\n",
        "print(a)"
      ],
      "metadata": {
        "colab": {
          "base_uri": "https://localhost:8080/"
        },
        "id": "3nEj7BLSUcWS",
        "outputId": "7b6016db-1030-4275-a7aa-a166ecc8ef58"
      },
      "execution_count": null,
      "outputs": [
        {
          "output_type": "stream",
          "name": "stdout",
          "text": [
            "1 2 3 4 5\n",
            "[1, 2, 3, 4, 5]\n"
          ]
        }
      ]
    },
    {
      "cell_type": "code",
      "source": [
        "a = [int(x) for x in input().split()]\n",
        "print(a)\n",
        "print(sum(a))"
      ],
      "metadata": {
        "colab": {
          "base_uri": "https://localhost:8080/"
        },
        "id": "Z0obmjx44KC_",
        "outputId": "d824a28a-644d-4801-ffe5-4acbb20290b1"
      },
      "execution_count": null,
      "outputs": [
        {
          "output_type": "stream",
          "name": "stdout",
          "text": [
            "1 2 3\n",
            "[1, 2, 3]\n",
            "6\n"
          ]
        }
      ]
    },
    {
      "cell_type": "code",
      "source": [
        "a = [1, 2, 3, 4, 5]\n",
        "a = [str(x) for x in a]\n",
        "print(a)\n",
        "print(' '.join(a))"
      ],
      "metadata": {
        "colab": {
          "base_uri": "https://localhost:8080/"
        },
        "id": "CG_OFM_34gxY",
        "outputId": "ee77c26c-f9cf-4cea-8144-62d4ce139f5f"
      },
      "execution_count": null,
      "outputs": [
        {
          "output_type": "stream",
          "name": "stdout",
          "text": [
            "['1', '2', '3', '4', '5']\n",
            "1 2 3 4 5\n"
          ]
        }
      ]
    },
    {
      "cell_type": "code",
      "source": [],
      "metadata": {
        "id": "0MFoMVo3VMJA"
      },
      "execution_count": null,
      "outputs": []
    },
    {
      "cell_type": "markdown",
      "source": [
        "##### Кортежи"
      ],
      "metadata": {
        "id": "fF_G9Lu-NECe"
      }
    },
    {
      "cell_type": "markdown",
      "source": [
        "Кортежи являются последовательностями. При создании кортежи заключаются в круглые скобки. Кортежи не позволяют изменять свои значения и не имеют методов."
      ],
      "metadata": {
        "id": "ZRfTN4xwpm_R"
      }
    },
    {
      "cell_type": "code",
      "source": [
        "t1 = ('Ivanov', 'Petr', 'Fedorovich')\n",
        "print(t1)\n",
        "print(type(t1))\n",
        "print(t1[0])"
      ],
      "metadata": {
        "colab": {
          "base_uri": "https://localhost:8080/"
        },
        "id": "mvNi1Sejp53C",
        "outputId": "f3b07ff9-77e7-42a7-e541-6b0a5cc39e8b"
      },
      "execution_count": null,
      "outputs": [
        {
          "output_type": "stream",
          "name": "stdout",
          "text": [
            "('Ivanov', 'Petr', 'Fedorovich')\n",
            "<class 'tuple'>\n",
            "Ivanov\n"
          ]
        }
      ]
    },
    {
      "cell_type": "code",
      "source": [
        "t2 = (1, 2, 3, 4, 5)\n",
        "print(t2)\n",
        "print(t2[1])"
      ],
      "metadata": {
        "colab": {
          "base_uri": "https://localhost:8080/"
        },
        "id": "Xl4QyvuyqcNt",
        "outputId": "235ef0e1-d0f1-4629-9a60-4a33b9c15a91"
      },
      "execution_count": null,
      "outputs": [
        {
          "output_type": "stream",
          "name": "stdout",
          "text": [
            "(1, 2, 3, 4, 5)\n",
            "2\n"
          ]
        }
      ]
    },
    {
      "cell_type": "code",
      "source": [
        "a = [1, 2, 3] # создание кортежа из списка\n",
        "t = tuple(a)\n",
        "print(t)"
      ],
      "metadata": {
        "colab": {
          "base_uri": "https://localhost:8080/"
        },
        "id": "kSoZjj-Eqk6V",
        "outputId": "41bcee92-3fa9-4ca4-d979-0dbf718260b4"
      },
      "execution_count": null,
      "outputs": [
        {
          "output_type": "stream",
          "name": "stdout",
          "text": [
            "(1, 2, 3)\n"
          ]
        }
      ]
    },
    {
      "cell_type": "markdown",
      "source": [
        "#### Присваивание последовательностей"
      ],
      "metadata": {
        "id": "akUck9HyrEqn"
      }
    },
    {
      "cell_type": "markdown",
      "source": [
        "\n",
        "В Python последовательности можно присвоить последовательность значений. Присваивание происходит в соответствии с позициями элементов в последовательностях."
      ],
      "metadata": {
        "id": "H6rjHi_rrJU-"
      }
    },
    {
      "cell_type": "markdown",
      "source": [
        "Присваивание кортежей."
      ],
      "metadata": {
        "id": "leNTEJiyrQf3"
      }
    },
    {
      "cell_type": "code",
      "source": [
        "a, b = 'c', 'd'\n",
        "a, b"
      ],
      "metadata": {
        "colab": {
          "base_uri": "https://localhost:8080/"
        },
        "id": "VBzAE7zQrS1_",
        "outputId": "c6639edd-4c9d-4d4a-da4c-2ad84246594c"
      },
      "execution_count": null,
      "outputs": [
        {
          "output_type": "execute_result",
          "data": {
            "text/plain": [
              "('c', 'd')"
            ]
          },
          "metadata": {},
          "execution_count": 7
        }
      ]
    },
    {
      "cell_type": "markdown",
      "source": [
        "Это равносильно командам a='c'; b='d'."
      ],
      "metadata": {
        "id": "u2Z9iqe5rZ43"
      }
    },
    {
      "cell_type": "markdown",
      "source": [
        "Присваивание строки кортежу"
      ],
      "metadata": {
        "id": "a64B_8Fdrbo2"
      }
    },
    {
      "cell_type": "code",
      "source": [
        "a, b, c = 'ijk'\n",
        "a, b, c"
      ],
      "metadata": {
        "colab": {
          "base_uri": "https://localhost:8080/"
        },
        "id": "PBI59GGprd1X",
        "outputId": "a0a05f63-51c3-4b19-b40f-de22fc4a135c"
      },
      "execution_count": null,
      "outputs": [
        {
          "output_type": "execute_result",
          "data": {
            "text/plain": [
              "('i', 'j', 'k')"
            ]
          },
          "metadata": {},
          "execution_count": 8
        }
      ]
    },
    {
      "cell_type": "markdown",
      "source": [
        "Присваивание кортежа списку"
      ],
      "metadata": {
        "id": "s65aup36rm3H"
      }
    },
    {
      "cell_type": "code",
      "source": [
        "[A, B] = (1, 2)\n",
        "A, B"
      ],
      "metadata": {
        "colab": {
          "base_uri": "https://localhost:8080/"
        },
        "id": "n1M919eZrpnH",
        "outputId": "9ce2ca96-90fb-4847-ea75-c1988155e82e"
      },
      "execution_count": null,
      "outputs": [
        {
          "output_type": "execute_result",
          "data": {
            "text/plain": [
              "(1, 2)"
            ]
          },
          "metadata": {},
          "execution_count": 9
        }
      ]
    },
    {
      "cell_type": "markdown",
      "source": [
        "Присваивание последовательности целых чисел переменным a,b,c"
      ],
      "metadata": {
        "id": "xPzX6obbru-O"
      }
    },
    {
      "cell_type": "code",
      "source": [
        "a, b, c = range(3)\n",
        "a, b, c"
      ],
      "metadata": {
        "colab": {
          "base_uri": "https://localhost:8080/"
        },
        "id": "XRWJOQrLrv0W",
        "outputId": "45678f7f-204b-42da-fe3a-b98cfaf4b528"
      },
      "execution_count": null,
      "outputs": [
        {
          "output_type": "execute_result",
          "data": {
            "text/plain": [
              "(0, 1, 2)"
            ]
          },
          "metadata": {},
          "execution_count": 10
        }
      ]
    },
    {
      "cell_type": "markdown",
      "source": [
        "Обмен значений переменных с помощью кортежей"
      ],
      "metadata": {
        "id": "paW3ThGbr1rO"
      }
    },
    {
      "cell_type": "code",
      "source": [
        "a, b = 1, 2\n",
        "print(a, b)\n",
        "\n",
        "a, b = b, a\n",
        "print(a, b)"
      ],
      "metadata": {
        "colab": {
          "base_uri": "https://localhost:8080/"
        },
        "id": "UrVyJ_MZr2x-",
        "outputId": "b780c348-c366-47ff-f889-251ee88e833d"
      },
      "execution_count": null,
      "outputs": [
        {
          "output_type": "stream",
          "name": "stdout",
          "text": [
            "1 2\n",
            "2 1\n"
          ]
        }
      ]
    },
    {
      "cell_type": "markdown",
      "source": [
        "Можно осуществлять присваивание одного объекта нескольким переменным\n",
        "\n",
        "\n"
      ],
      "metadata": {
        "id": "6fxQpmf5sGKW"
      }
    },
    {
      "cell_type": "code",
      "source": [
        "a = b = c = 1\n",
        "print(a)\n",
        "print(b)\n",
        "print(c)"
      ],
      "metadata": {
        "colab": {
          "base_uri": "https://localhost:8080/"
        },
        "id": "HUnu9DTUsG_u",
        "outputId": "3666e818-3dd8-4d6e-b180-5358c6025c54"
      },
      "execution_count": null,
      "outputs": [
        {
          "output_type": "stream",
          "name": "stdout",
          "text": [
            "1\n",
            "1\n",
            "1\n"
          ]
        }
      ]
    },
    {
      "cell_type": "markdown",
      "source": [
        "Это равносильно"
      ],
      "metadata": {
        "id": "G1ln2W0rsJgO"
      }
    },
    {
      "cell_type": "code",
      "source": [
        "c = 1\n",
        "b = c\n",
        "a = b"
      ],
      "metadata": {
        "id": "g67wwhMosLce"
      },
      "execution_count": null,
      "outputs": []
    },
    {
      "cell_type": "markdown",
      "source": [
        "Такое присваивание удобно выполнять для неизменяемых объектов. Следует учитывать, что если присваивается изменяемый объект, то при его изменении с помощью одной переменной, изменяются и другие переменные."
      ],
      "metadata": {
        "id": "FSAz29SfsNNe"
      }
    },
    {
      "cell_type": "code",
      "source": [
        "a = b = c = []\n",
        "a.append(1)\n",
        "print(a)\n",
        "print(b)\n",
        "print(c)"
      ],
      "metadata": {
        "id": "PblcJCmvsPQu",
        "colab": {
          "base_uri": "https://localhost:8080/"
        },
        "outputId": "db59b659-52d7-45dd-fd14-daad1d3cb346"
      },
      "execution_count": null,
      "outputs": [
        {
          "output_type": "stream",
          "name": "stdout",
          "text": [
            "[1]\n",
            "[1]\n",
            "[1]\n"
          ]
        }
      ]
    },
    {
      "cell_type": "code",
      "source": [
        "for i in range(1,11,2):\n",
        "  print(i)"
      ],
      "metadata": {
        "colab": {
          "base_uri": "https://localhost:8080/"
        },
        "id": "ZJiK9GPn7OzP",
        "outputId": "689d6c60-2af3-4c28-969d-7e9aeea3a4b2"
      },
      "execution_count": null,
      "outputs": [
        {
          "output_type": "stream",
          "name": "stdout",
          "text": [
            "1\n",
            "3\n",
            "5\n",
            "7\n",
            "9\n"
          ]
        }
      ]
    }
  ]
}